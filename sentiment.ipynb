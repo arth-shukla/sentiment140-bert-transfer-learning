{
  "cells": [
    {
      "cell_type": "code",
      "source": [
        "from google.colab import drive\n",
        "drive.mount('/content/gdrive')"
      ],
      "metadata": {
        "colab": {
          "base_uri": "https://localhost:8080/"
        },
        "id": "XXqzGc1MnWHk",
        "outputId": "94714f31-165e-4169-a894-d091c0617553"
      },
      "execution_count": 1,
      "outputs": [
        {
          "output_type": "stream",
          "name": "stdout",
          "text": [
            "Mounted at /content/gdrive\n"
          ]
        }
      ]
    },
    {
      "cell_type": "code",
      "source": [
        "!unzip '/content/gdrive/My Drive/saved/select_saved_checkpoints.zip' -d ./select_saved_checkpoints"
      ],
      "metadata": {
        "colab": {
          "base_uri": "https://localhost:8080/"
        },
        "id": "LcWq_Sdnnx_3",
        "outputId": "36aee03c-90c1-4cd6-a56d-f2711d00df16"
      },
      "execution_count": 2,
      "outputs": [
        {
          "output_type": "stream",
          "name": "stdout",
          "text": [
            "Archive:  /content/gdrive/My Drive/saved/select_saved_checkpoints.zip\n",
            "   creating: ./select_saved_checkpoints/select_saved_checkpoints copy/\n",
            "  inflating: ./select_saved_checkpoints/__MACOSX/._select_saved_checkpoints copy  \n",
            "  inflating: ./select_saved_checkpoints/select_saved_checkpoints copy/train_accs.txt  \n",
            "  inflating: ./select_saved_checkpoints/select_saved_checkpoints copy/val_accs.txt  \n",
            "  inflating: ./select_saved_checkpoints/select_saved_checkpoints copy/bert_sentiment140_fine_tuned_1.pth  \n",
            "  inflating: ./select_saved_checkpoints/select_saved_checkpoints copy/val_losses.txt  \n",
            "  inflating: ./select_saved_checkpoints/select_saved_checkpoints copy/train_losses.txt  \n"
          ]
        }
      ]
    },
    {
      "cell_type": "code",
      "source": [
        "!mv \"./select_saved_checkpoints/select_saved_checkpoints copy\" \"./select_saved_checkpoints copy\""
      ],
      "metadata": {
        "id": "YnXYFLTapUnD"
      },
      "execution_count": 3,
      "outputs": []
    },
    {
      "cell_type": "code",
      "source": [
        "# !rm -rf ./select_saved_checkpoints"
      ],
      "metadata": {
        "id": "lE1MB7G7RwIY"
      },
      "execution_count": 4,
      "outputs": []
    },
    {
      "cell_type": "code",
      "source": [
        "!mv \"select_saved_checkpoints copy\" select_saved_checkpoints/"
      ],
      "metadata": {
        "id": "i4VqgTT0pmy3"
      },
      "execution_count": 5,
      "outputs": []
    },
    {
      "cell_type": "markdown",
      "metadata": {
        "id": "oFVsClSKN2CQ"
      },
      "source": [
        "# Sentiment 140 Twitter Sentiment Analysis"
      ]
    },
    {
      "cell_type": "markdown",
      "metadata": {
        "id": "14kex5l6N2CR"
      },
      "source": [
        "I will be using the sentiment140 dataset from http://help.sentiment140.com/for-students/. It contains 1.6 million tweets labeled as negative (0) or positive (4). The website says there are tweets labeled neutral (2), but I could not find these in the emoji-cleaned data."
      ]
    },
    {
      "cell_type": "markdown",
      "metadata": {
        "id": "f82EX4I4N2CS"
      },
      "source": [
        "## Setup"
      ]
    },
    {
      "cell_type": "markdown",
      "metadata": {
        "id": "ZSG_F1qON2CS"
      },
      "source": [
        "Get packages"
      ]
    },
    {
      "cell_type": "code",
      "execution_count": 1,
      "metadata": {
        "colab": {
          "base_uri": "https://localhost:8080/"
        },
        "id": "oz40P4LbN2CS",
        "outputId": "a4e47097-6a13-4bae-9b50-69dbf0136fbd"
      },
      "outputs": [
        {
          "output_type": "stream",
          "name": "stderr",
          "text": [
            "[nltk_data] Downloading package words to /root/nltk_data...\n",
            "[nltk_data]   Package words is already up-to-date!\n"
          ]
        }
      ],
      "source": [
        "import torch\n",
        "import numpy as np\n",
        "import pandas as pd\n",
        "import nltk\n",
        "nltk.download('words')\n",
        "\n",
        "from tqdm import tqdm"
      ]
    },
    {
      "cell_type": "code",
      "execution_count": 2,
      "metadata": {
        "colab": {
          "base_uri": "https://localhost:8080/"
        },
        "id": "v64KNC8TN2CU",
        "outputId": "98dc4363-30d3-403c-f4f1-41be2ecf6f31"
      },
      "outputs": [
        {
          "output_type": "stream",
          "name": "stdout",
          "text": [
            "cuda\n"
          ]
        }
      ],
      "source": [
        "device = torch.device('cpu') if not torch.cuda.is_available() else torch.device('cuda')\n",
        "print(device)"
      ]
    },
    {
      "cell_type": "markdown",
      "metadata": {
        "id": "JkBn2L-jN2CU"
      },
      "source": [
        "Get sentiment140 dataset from http://help.sentiment140.com/for-students/"
      ]
    },
    {
      "cell_type": "code",
      "execution_count": 3,
      "metadata": {
        "colab": {
          "base_uri": "https://localhost:8080/"
        },
        "id": "-deQUrvAOK_q",
        "outputId": "a3060250-af0a-4ad5-fe85-5febbaa4b5e5"
      },
      "outputs": [
        {
          "output_type": "stream",
          "name": "stdout",
          "text": [
            "Looking in indexes: https://pypi.org/simple, https://us-python.pkg.dev/colab-wheels/public/simple/\n",
            "Requirement already satisfied: wget in /usr/local/lib/python3.10/dist-packages (3.2)\n",
            "Looking in indexes: https://pypi.org/simple, https://us-python.pkg.dev/colab-wheels/public/simple/\n",
            "Requirement already satisfied: transformers in /usr/local/lib/python3.10/dist-packages (4.29.2)\n",
            "Requirement already satisfied: filelock in /usr/local/lib/python3.10/dist-packages (from transformers) (3.12.0)\n",
            "Requirement already satisfied: huggingface-hub<1.0,>=0.14.1 in /usr/local/lib/python3.10/dist-packages (from transformers) (0.14.1)\n",
            "Requirement already satisfied: numpy>=1.17 in /usr/local/lib/python3.10/dist-packages (from transformers) (1.22.4)\n",
            "Requirement already satisfied: packaging>=20.0 in /usr/local/lib/python3.10/dist-packages (from transformers) (23.1)\n",
            "Requirement already satisfied: pyyaml>=5.1 in /usr/local/lib/python3.10/dist-packages (from transformers) (6.0)\n",
            "Requirement already satisfied: regex!=2019.12.17 in /usr/local/lib/python3.10/dist-packages (from transformers) (2022.10.31)\n",
            "Requirement already satisfied: requests in /usr/local/lib/python3.10/dist-packages (from transformers) (2.27.1)\n",
            "Requirement already satisfied: tokenizers!=0.11.3,<0.14,>=0.11.1 in /usr/local/lib/python3.10/dist-packages (from transformers) (0.13.3)\n",
            "Requirement already satisfied: tqdm>=4.27 in /usr/local/lib/python3.10/dist-packages (from transformers) (4.65.0)\n",
            "Requirement already satisfied: fsspec in /usr/local/lib/python3.10/dist-packages (from huggingface-hub<1.0,>=0.14.1->transformers) (2023.4.0)\n",
            "Requirement already satisfied: typing-extensions>=3.7.4.3 in /usr/local/lib/python3.10/dist-packages (from huggingface-hub<1.0,>=0.14.1->transformers) (4.5.0)\n",
            "Requirement already satisfied: urllib3<1.27,>=1.21.1 in /usr/local/lib/python3.10/dist-packages (from requests->transformers) (1.26.15)\n",
            "Requirement already satisfied: certifi>=2017.4.17 in /usr/local/lib/python3.10/dist-packages (from requests->transformers) (2022.12.7)\n",
            "Requirement already satisfied: charset-normalizer~=2.0.0 in /usr/local/lib/python3.10/dist-packages (from requests->transformers) (2.0.12)\n",
            "Requirement already satisfied: idna<4,>=2.5 in /usr/local/lib/python3.10/dist-packages (from requests->transformers) (3.4)\n"
          ]
        }
      ],
      "source": [
        "# Uncomment if using colab\n",
        "!pip install wget\n",
        "!pip install transformers"
      ]
    },
    {
      "cell_type": "code",
      "execution_count": 4,
      "metadata": {
        "id": "bmsVCzWqN2CU"
      },
      "outputs": [],
      "source": [
        "def download_dataset(url, rename_stem='sentiment140'):\n",
        "    import wget\n",
        "    import zipfile\n",
        "    import os\n",
        "\n",
        "    data_zip_path = f'{rename_stem}.zip'\n",
        "    data_dir = f'{rename_stem}/'\n",
        "\n",
        "    if not os.path.exists(data_zip_path):\n",
        "        wget.download(url, data_zip_path)\n",
        "    if not os.path.exists(data_dir):\n",
        "        with zipfile.ZipFile(data_zip_path, 'r') as zip_ref:\n",
        "            zip_ref.extractall(data_dir)"
      ]
    },
    {
      "cell_type": "code",
      "execution_count": 5,
      "metadata": {
        "id": "cJ0VzjsAN2CU"
      },
      "outputs": [],
      "source": [
        "DATA_URL = 'http://cs.stanford.edu/people/alecmgo/trainingandtestdata.zip'\n",
        "download_dataset(DATA_URL)"
      ]
    },
    {
      "cell_type": "markdown",
      "metadata": {
        "id": "c7hk6zq2N2CU"
      },
      "source": [
        "## Data Loading and Cleaning"
      ]
    },
    {
      "cell_type": "code",
      "execution_count": 6,
      "metadata": {
        "id": "M8z7GkJwN2CV"
      },
      "outputs": [],
      "source": [
        "def cleaner(tweet, valid_words=set()):\n",
        "     import re\n",
        "\n",
        "     # Remove @ sign and @s\n",
        "     tweet = re.sub('@[A-Za-z0-9]+', '', tweet)\n",
        "     tweet = re.sub('@', '', tweet)\n",
        "\n",
        "     # Remove http/https links\n",
        "     tweet = re.sub(r'(?:\\@|http?\\://|https?\\://|www)\\S+', '', tweet)\n",
        "     tweet = ' '.join(tweet.split())\n",
        "     \n",
        "     # Remove hashtag sign but keep the text\n",
        "     tweet = tweet.replace('#', '').replace('_', ' ')\n",
        "\n",
        "     # accept only valid words from nltk\n",
        "     tweet = ' '.join(w for w in nltk.wordpunct_tokenize(tweet) \\\n",
        "                      if w.lower() in valid_words or not w.isalpha())\n",
        "     \n",
        "     tweet = tweet.lower()\n",
        "     \n",
        "     return tweet"
      ]
    },
    {
      "cell_type": "code",
      "execution_count": 7,
      "metadata": {
        "id": "XxBstsk9N2CV"
      },
      "outputs": [],
      "source": [
        "columns = ['polarity', 'id', 'date', 'query', 'username', 'tweet']\n",
        "df = pd.read_csv('./sentiment140/training.1600000.processed.noemoticon.csv',\n",
        "                 encoding=\"ISO-8859-1\", header=None, names=columns)"
      ]
    },
    {
      "cell_type": "code",
      "execution_count": 8,
      "metadata": {
        "id": "O1IutoFG42vG",
        "outputId": "7b8a7f57-12a7-4d6a-dda1-b0612256a57f",
        "colab": {
          "base_uri": "https://localhost:8080/"
        }
      },
      "outputs": [
        {
          "output_type": "execute_result",
          "data": {
            "text/plain": [
              "800000"
            ]
          },
          "metadata": {},
          "execution_count": 8
        }
      ],
      "source": [
        "len(df.index[df['polarity'] == 4].tolist())"
      ]
    },
    {
      "cell_type": "code",
      "execution_count": 9,
      "metadata": {
        "id": "S-KbaVXX4Rv3",
        "outputId": "09799443-0584-4fad-93da-90fc398286fa",
        "colab": {
          "base_uri": "https://localhost:8080/"
        }
      },
      "outputs": [
        {
          "output_type": "stream",
          "name": "stderr",
          "text": [
            "100%|██████████| 1600000/1600000 [00:49<00:00, 32610.77it/s]\n"
          ]
        }
      ],
      "source": [
        "valid_words = set(nltk.corpus.words.words())\n",
        "tqdm.pandas()\n",
        "df['tweet'] = df['tweet'].progress_map(lambda x: cleaner(x, valid_words=valid_words))"
      ]
    },
    {
      "cell_type": "code",
      "execution_count": 10,
      "metadata": {
        "id": "q-pyzh-tU77V",
        "outputId": "fda595c3-5981-4a0f-e243-aa57c3f10158",
        "colab": {
          "base_uri": "https://localhost:8080/"
        }
      },
      "outputs": [
        {
          "output_type": "stream",
          "name": "stdout",
          "text": [
            "[0 1]\n"
          ]
        }
      ],
      "source": [
        "# to match output convention later\n",
        "df.loc[df['polarity'] == 4, 'polarity'] = 1\n",
        "print(df['polarity'].unique())"
      ]
    },
    {
      "cell_type": "code",
      "execution_count": 11,
      "metadata": {
        "id": "77ZhViQ1N2CV",
        "outputId": "ba147a09-0b90-47ff-c37f-da602d1eebbb",
        "colab": {
          "base_uri": "https://localhost:8080/"
        }
      },
      "outputs": [
        {
          "output_type": "stream",
          "name": "stdout",
          "text": [
            "duplicated: 0\n",
            "null:\n",
            "polarity    1600000\n",
            "id          1600000\n",
            "date        1600000\n",
            "query       1600000\n",
            "username    1600000\n",
            "tweet       1600000\n",
            "dtype: int64\n"
          ]
        }
      ],
      "source": [
        "print('duplicated:', df.duplicated().sum())\n",
        "print('null:', df.notnull().sum(), sep='\\n')"
      ]
    },
    {
      "cell_type": "code",
      "execution_count": 12,
      "metadata": {
        "id": "OjBfn1YJN2CW",
        "outputId": "044e5848-8ddb-42e6-dcbf-4550a5771ea3",
        "colab": {
          "base_uri": "https://localhost:8080/"
        }
      },
      "outputs": [
        {
          "output_type": "stream",
          "name": "stdout",
          "text": [
            "<class 'pandas.core.frame.DataFrame'>\n",
            "RangeIndex: 1600000 entries, 0 to 1599999\n",
            "Data columns (total 6 columns):\n",
            " #   Column    Non-Null Count    Dtype \n",
            "---  ------    --------------    ----- \n",
            " 0   polarity  1600000 non-null  int64 \n",
            " 1   id        1600000 non-null  int64 \n",
            " 2   date      1600000 non-null  object\n",
            " 3   query     1600000 non-null  object\n",
            " 4   username  1600000 non-null  object\n",
            " 5   tweet     1600000 non-null  object\n",
            "dtypes: int64(2), object(4)\n",
            "memory usage: 73.2+ MB\n"
          ]
        }
      ],
      "source": [
        "df.info()"
      ]
    },
    {
      "cell_type": "code",
      "execution_count": 13,
      "metadata": {
        "id": "Gh-bgX_eN2CW",
        "outputId": "dae845c2-588e-4ea4-c352-a18fc62cfc5f",
        "colab": {
          "base_uri": "https://localhost:8080/",
          "height": 0
        }
      },
      "outputs": [
        {
          "output_type": "execute_result",
          "data": {
            "text/plain": [
              "         polarity                                              tweet\n",
              "768386          0                                 i love how only my\n",
              "1549755         1                  you are going video crazy ! i ' m\n",
              "1277144         1                             i for eye of the storm\n",
              "798290          0                            damn , it ' s hot today\n",
              "1167791         1                             room clean up : done !\n",
              "833712          1                     ! go for another 13 and more !\n",
              "152816          0  weird work schedule this week ... three late d...\n",
              "428587          0                            yeah yo , mary mary too\n",
              "935471          1  yeah finally finish with all my homework !! i can\n",
              "1114983         1                full from tea . got a new top today"
            ],
            "text/html": [
              "\n",
              "  <div id=\"df-d1a30b6f-339e-4439-80c6-8befe3df431b\">\n",
              "    <div class=\"colab-df-container\">\n",
              "      <div>\n",
              "<style scoped>\n",
              "    .dataframe tbody tr th:only-of-type {\n",
              "        vertical-align: middle;\n",
              "    }\n",
              "\n",
              "    .dataframe tbody tr th {\n",
              "        vertical-align: top;\n",
              "    }\n",
              "\n",
              "    .dataframe thead th {\n",
              "        text-align: right;\n",
              "    }\n",
              "</style>\n",
              "<table border=\"1\" class=\"dataframe\">\n",
              "  <thead>\n",
              "    <tr style=\"text-align: right;\">\n",
              "      <th></th>\n",
              "      <th>polarity</th>\n",
              "      <th>tweet</th>\n",
              "    </tr>\n",
              "  </thead>\n",
              "  <tbody>\n",
              "    <tr>\n",
              "      <th>768386</th>\n",
              "      <td>0</td>\n",
              "      <td>i love how only my</td>\n",
              "    </tr>\n",
              "    <tr>\n",
              "      <th>1549755</th>\n",
              "      <td>1</td>\n",
              "      <td>you are going video crazy ! i ' m</td>\n",
              "    </tr>\n",
              "    <tr>\n",
              "      <th>1277144</th>\n",
              "      <td>1</td>\n",
              "      <td>i for eye of the storm</td>\n",
              "    </tr>\n",
              "    <tr>\n",
              "      <th>798290</th>\n",
              "      <td>0</td>\n",
              "      <td>damn , it ' s hot today</td>\n",
              "    </tr>\n",
              "    <tr>\n",
              "      <th>1167791</th>\n",
              "      <td>1</td>\n",
              "      <td>room clean up : done !</td>\n",
              "    </tr>\n",
              "    <tr>\n",
              "      <th>833712</th>\n",
              "      <td>1</td>\n",
              "      <td>! go for another 13 and more !</td>\n",
              "    </tr>\n",
              "    <tr>\n",
              "      <th>152816</th>\n",
              "      <td>0</td>\n",
              "      <td>weird work schedule this week ... three late d...</td>\n",
              "    </tr>\n",
              "    <tr>\n",
              "      <th>428587</th>\n",
              "      <td>0</td>\n",
              "      <td>yeah yo , mary mary too</td>\n",
              "    </tr>\n",
              "    <tr>\n",
              "      <th>935471</th>\n",
              "      <td>1</td>\n",
              "      <td>yeah finally finish with all my homework !! i can</td>\n",
              "    </tr>\n",
              "    <tr>\n",
              "      <th>1114983</th>\n",
              "      <td>1</td>\n",
              "      <td>full from tea . got a new top today</td>\n",
              "    </tr>\n",
              "  </tbody>\n",
              "</table>\n",
              "</div>\n",
              "      <button class=\"colab-df-convert\" onclick=\"convertToInteractive('df-d1a30b6f-339e-4439-80c6-8befe3df431b')\"\n",
              "              title=\"Convert this dataframe to an interactive table.\"\n",
              "              style=\"display:none;\">\n",
              "        \n",
              "  <svg xmlns=\"http://www.w3.org/2000/svg\" height=\"24px\"viewBox=\"0 0 24 24\"\n",
              "       width=\"24px\">\n",
              "    <path d=\"M0 0h24v24H0V0z\" fill=\"none\"/>\n",
              "    <path d=\"M18.56 5.44l.94 2.06.94-2.06 2.06-.94-2.06-.94-.94-2.06-.94 2.06-2.06.94zm-11 1L8.5 8.5l.94-2.06 2.06-.94-2.06-.94L8.5 2.5l-.94 2.06-2.06.94zm10 10l.94 2.06.94-2.06 2.06-.94-2.06-.94-.94-2.06-.94 2.06-2.06.94z\"/><path d=\"M17.41 7.96l-1.37-1.37c-.4-.4-.92-.59-1.43-.59-.52 0-1.04.2-1.43.59L10.3 9.45l-7.72 7.72c-.78.78-.78 2.05 0 2.83L4 21.41c.39.39.9.59 1.41.59.51 0 1.02-.2 1.41-.59l7.78-7.78 2.81-2.81c.8-.78.8-2.07 0-2.86zM5.41 20L4 18.59l7.72-7.72 1.47 1.35L5.41 20z\"/>\n",
              "  </svg>\n",
              "      </button>\n",
              "      \n",
              "  <style>\n",
              "    .colab-df-container {\n",
              "      display:flex;\n",
              "      flex-wrap:wrap;\n",
              "      gap: 12px;\n",
              "    }\n",
              "\n",
              "    .colab-df-convert {\n",
              "      background-color: #E8F0FE;\n",
              "      border: none;\n",
              "      border-radius: 50%;\n",
              "      cursor: pointer;\n",
              "      display: none;\n",
              "      fill: #1967D2;\n",
              "      height: 32px;\n",
              "      padding: 0 0 0 0;\n",
              "      width: 32px;\n",
              "    }\n",
              "\n",
              "    .colab-df-convert:hover {\n",
              "      background-color: #E2EBFA;\n",
              "      box-shadow: 0px 1px 2px rgba(60, 64, 67, 0.3), 0px 1px 3px 1px rgba(60, 64, 67, 0.15);\n",
              "      fill: #174EA6;\n",
              "    }\n",
              "\n",
              "    [theme=dark] .colab-df-convert {\n",
              "      background-color: #3B4455;\n",
              "      fill: #D2E3FC;\n",
              "    }\n",
              "\n",
              "    [theme=dark] .colab-df-convert:hover {\n",
              "      background-color: #434B5C;\n",
              "      box-shadow: 0px 1px 3px 1px rgba(0, 0, 0, 0.15);\n",
              "      filter: drop-shadow(0px 1px 2px rgba(0, 0, 0, 0.3));\n",
              "      fill: #FFFFFF;\n",
              "    }\n",
              "  </style>\n",
              "\n",
              "      <script>\n",
              "        const buttonEl =\n",
              "          document.querySelector('#df-d1a30b6f-339e-4439-80c6-8befe3df431b button.colab-df-convert');\n",
              "        buttonEl.style.display =\n",
              "          google.colab.kernel.accessAllowed ? 'block' : 'none';\n",
              "\n",
              "        async function convertToInteractive(key) {\n",
              "          const element = document.querySelector('#df-d1a30b6f-339e-4439-80c6-8befe3df431b');\n",
              "          const dataTable =\n",
              "            await google.colab.kernel.invokeFunction('convertToInteractive',\n",
              "                                                     [key], {});\n",
              "          if (!dataTable) return;\n",
              "\n",
              "          const docLinkHtml = 'Like what you see? Visit the ' +\n",
              "            '<a target=\"_blank\" href=https://colab.research.google.com/notebooks/data_table.ipynb>data table notebook</a>'\n",
              "            + ' to learn more about interactive tables.';\n",
              "          element.innerHTML = '';\n",
              "          dataTable['output_type'] = 'display_data';\n",
              "          await google.colab.output.renderOutput(dataTable, element);\n",
              "          const docLink = document.createElement('div');\n",
              "          docLink.innerHTML = docLinkHtml;\n",
              "          element.appendChild(docLink);\n",
              "        }\n",
              "      </script>\n",
              "    </div>\n",
              "  </div>\n",
              "  "
            ]
          },
          "metadata": {},
          "execution_count": 13
        }
      ],
      "source": [
        "df.sample(10)[['polarity', 'tweet']]"
      ]
    },
    {
      "cell_type": "code",
      "execution_count": 14,
      "metadata": {
        "id": "BC5gTGfrYfW5"
      },
      "outputs": [],
      "source": [
        "X = df['tweet'].values\n",
        "y = df['polarity'].values"
      ]
    },
    {
      "cell_type": "code",
      "execution_count": 15,
      "metadata": {
        "id": "W3IbvKscY1ma"
      },
      "outputs": [],
      "source": [
        "from sklearn.model_selection import train_test_split\n",
        "X_train, X_test, y_train, y_test = train_test_split(X, y, test_size=0.1, random_state=2023)"
      ]
    },
    {
      "cell_type": "markdown",
      "metadata": {
        "id": "WxiK2EVGN2CX"
      },
      "source": [
        "## BERTTokenizer + Pytorch Dataset"
      ]
    },
    {
      "cell_type": "code",
      "execution_count": 16,
      "metadata": {
        "id": "sHV4yEmYN2CX",
        "outputId": "200bb78e-4d95-49e6-8c52-59d069a790e4",
        "colab": {
          "base_uri": "https://localhost:8080/"
        }
      },
      "outputs": [
        {
          "output_type": "stream",
          "name": "stdout",
          "text": [
            "Loading BERT tokenizer...\n",
            "Loaded!\n"
          ]
        }
      ],
      "source": [
        "from transformers import BertTokenizer\n",
        "\n",
        "print('Loading BERT tokenizer...')\n",
        "tokenizer = BertTokenizer.from_pretrained('bert-base-uncased', do_lower_case=True)\n",
        "print('Loaded!')"
      ]
    },
    {
      "cell_type": "markdown",
      "metadata": {
        "id": "TbqYssH8N2CX"
      },
      "source": [
        "Get longest tokenized sentence (since BERT requires all sentences to be the same length). This includes the special tokens `[CLS]` and `[SEP]`."
      ]
    },
    {
      "cell_type": "code",
      "execution_count": 17,
      "metadata": {
        "id": "fW2n6YULN2CX"
      },
      "outputs": [],
      "source": [
        "# max_len = 0\n",
        "\n",
        "# # For every sentence...\n",
        "# for sample in tqdm(X):\n",
        "\n",
        "#     # Tokenize the text and add `[CLS]` and `[SEP]` tokens.\n",
        "#     input_ids = tokenizer.encode(sample, add_special_tokens=True)\n",
        "\n",
        "#     # Update the maximum sentence length.\n",
        "#     max_len = max(max_len, len(input_ids))\n",
        "\n",
        "#     del input_ids\n",
        "\n",
        "# print('\\nMax sentence length: ', max_len)\n",
        "\n",
        "# NOTE: the above is on CPU, so uncomment only if using different or new data\n",
        "max_len = 256"
      ]
    },
    {
      "cell_type": "markdown",
      "metadata": {
        "id": "F--hk-bORyuX"
      },
      "source": [
        "Using BERT Tokenizer and maxlen to tokenize each sentence by\n",
        "\n",
        "1. tokenize by id\n",
        "2. prepend `[CLS]`\n",
        "3. append `[SEP]` at end\n",
        "4. pad with `[PAD]` tokens until max_len\n",
        "5. attention mask for the `[PAD]` tokens"
      ]
    },
    {
      "cell_type": "code",
      "execution_count": 18,
      "metadata": {
        "id": "A-36IZc-Woxo"
      },
      "outputs": [],
      "source": [
        "import torch\n",
        "from torch.utils.data import Dataset, DataLoader"
      ]
    },
    {
      "cell_type": "code",
      "execution_count": 19,
      "metadata": {
        "id": "effpwxNqWW39"
      },
      "outputs": [],
      "source": [
        "class BertTokenizedTweetsDataset(Dataset):\n",
        "    def __init__(self,\n",
        "                 X_train=X_train, y_train=y_train,\n",
        "                 X_test=X_test, y_test=y_test,\n",
        "                 train=True, max_len=256, max_cache_size=800000):\n",
        "        self.df = df\n",
        "        self.train = train\n",
        "        self.max_len = 256\n",
        "\n",
        "        self.X = X_train if self.train else X_test\n",
        "        self.y = y_train if self.train else y_test\n",
        "\n",
        "        self.cache = dict()\n",
        "        self.max_cache_size = max_cache_size\n",
        "\n",
        "    def __getitem__(self, index):\n",
        "\n",
        "        if index in self.cache.keys():\n",
        "            return self.cache[index]\n",
        "\n",
        "        X_sample = self.X[index]\n",
        "        y_sample = torch.tensor(self.y[index], dtype=torch.int64)\n",
        "\n",
        "        encoded_dict = tokenizer.encode_plus(\n",
        "                        X_sample,                 # Sentence to encode.\n",
        "                        add_special_tokens=True,  # Add '[CLS]' and '[SEP]'\n",
        "                        max_length=self.max_len,  # Pad & truncate all sentences.\n",
        "                        truncation=True,\n",
        "                        pad_to_max_length=True,\n",
        "                        return_attention_mask=True,   # Construct attn. masks.\n",
        "                        return_tensors='pt',      # Return pytorch tensors.\n",
        "                    )\n",
        "    \n",
        "        X_tokenized_id = encoded_dict['input_ids']\n",
        "        X_mask = encoded_dict['attention_mask']\n",
        "\n",
        "        if len(self.cache) >= self.max_cache_size:\n",
        "            self.cache.popitem()\n",
        "\n",
        "        self.cache[index] = (X_tokenized_id, X_mask, y_sample)\n",
        "\n",
        "        return X_tokenized_id, X_mask, y_sample\n",
        "\n",
        "    def __len__(self):\n",
        "        return len(self.X)"
      ]
    },
    {
      "cell_type": "code",
      "execution_count": 20,
      "metadata": {
        "id": "IYDE2bXyalVA"
      },
      "outputs": [],
      "source": [
        "train_data = BertTokenizedTweetsDataset(X_train=X_train, y_train=y_train, X_test=X_test, y_test=y_test, train=True)\n",
        "test_data = BertTokenizedTweetsDataset(X_train=X_train, y_train=y_train, X_test=X_test, y_test=y_test, train=False)"
      ]
    },
    {
      "cell_type": "code",
      "execution_count": 21,
      "metadata": {
        "id": "TS7UjBSYeU6S"
      },
      "outputs": [],
      "source": [
        "def test_cached_speed(unused_index):\n",
        "    import time\n",
        "    def get_time():\n",
        "        stime = time.time()\n",
        "        _ = train_data[unused_index]\n",
        "        etime = time.time()\n",
        "\n",
        "        return np.array(etime, dtype=np.float64) - np.array(stime, dtype=np.float64)\n",
        "    \n",
        "    uncached = get_time()\n",
        "    cached = get_time()\n",
        "    speed_x = uncached / cached\n",
        "\n",
        "    print(f'On this trial, cached had {uncached:.5f}/{cached:.5f} = {speed_x:.5f}x speed increase')    "
      ]
    },
    {
      "cell_type": "code",
      "execution_count": 22,
      "metadata": {
        "id": "ZYvTcCkMeGg1",
        "outputId": "5ad7640b-ed29-49d9-98e3-1c7d774531e6",
        "colab": {
          "base_uri": "https://localhost:8080/"
        }
      },
      "outputs": [
        {
          "output_type": "stream",
          "name": "stdout",
          "text": [
            "On this trial, cached had 0.00301/0.00000 = 1401.44444x speed increase\n"
          ]
        },
        {
          "output_type": "stream",
          "name": "stderr",
          "text": [
            "/usr/local/lib/python3.10/dist-packages/transformers/tokenization_utils_base.py:2364: FutureWarning: The `pad_to_max_length` argument is deprecated and will be removed in a future version, use `padding=True` or `padding='longest'` to pad to the longest sequence in the batch, or use `padding='max_length'` to pad to a max length. In this case, you can give a specific length with `max_length` (e.g. `max_length=45`) or leave max_length to None to pad to the maximal input size of the model (e.g. 512 for Bert).\n",
            "  warnings.warn(\n"
          ]
        }
      ],
      "source": [
        "test_cached_speed(np.random.randint(0, len(train_data)-1))"
      ]
    },
    {
      "cell_type": "markdown",
      "metadata": {
        "id": "wrlYSMYechs3"
      },
      "source": [
        "## Transfer Learning w/ BERT"
      ]
    },
    {
      "cell_type": "code",
      "execution_count": 23,
      "metadata": {
        "id": "9QJh4ek7cOQv"
      },
      "outputs": [],
      "source": [
        "from torch.utils.data import random_split\n",
        "train_subset, val_subset = random_split(train_data, [0.8, 0.2])"
      ]
    },
    {
      "cell_type": "code",
      "execution_count": 24,
      "metadata": {
        "id": "CfHtmXa8cgO9"
      },
      "outputs": [],
      "source": [
        "BATCH_SIZE = 32\n",
        "EPOCHS=4"
      ]
    },
    {
      "cell_type": "code",
      "execution_count": 25,
      "metadata": {
        "id": "Hhd3NVtOcUzM"
      },
      "outputs": [],
      "source": [
        "train_dl = DataLoader(train_subset, batch_size=BATCH_SIZE, shuffle=True)\n",
        "val_dl = DataLoader(val_subset, batch_size=BATCH_SIZE, shuffle=True)\n",
        "test_dl = DataLoader(test_data, batch_size=BATCH_SIZE)"
      ]
    },
    {
      "cell_type": "code",
      "execution_count": 26,
      "metadata": {
        "id": "0--1mbER0H00"
      },
      "outputs": [],
      "source": [
        "from transformers import AdamW\n",
        "from transformers import get_linear_schedule_with_warmup\n",
        "\n",
        "def save(model, optimizer, scheduler, save_path='./bert_sentiment140_fine_tuned.pth'):\n",
        "    torch.save({\n",
        "        'model_state_dict': model.state_dict(),\n",
        "        'optimizer_state_dict': optimizer.state_dict(),\n",
        "        'scheduler_state_dict': scheduler.state_dict(),\n",
        "    }, save_path)\n",
        "\n",
        "def train_step(bert, dataloader, optimizer, scheduler, epoch=0, val=False, print_batch_every=1000, save_every=10, save_path=None):\n",
        "\n",
        "    # tracking vars\n",
        "    tot_accuracy = 0\n",
        "    tot_loss = 0\n",
        "    batch = 0\n",
        "\n",
        "    # ready for train\n",
        "    if not val:\n",
        "        bert.train()\n",
        "    else:\n",
        "        bert.eval()\n",
        "\n",
        "    prepend = 'val' if val else 'train'\n",
        "\n",
        "    for data in iter(dataloader):\n",
        "\n",
        "        batch += 1\n",
        "\n",
        "        # get data and send to gpu\n",
        "        seqs, masks, labels = data\n",
        "\n",
        "        # align dims\n",
        "        seqs = torch.squeeze(seqs.transpose(2, 1)).to(device)\n",
        "        masks = torch.squeeze(masks.transpose(2, 1)).to(device)\n",
        "        labels = torch.squeeze(labels).to(device)\n",
        "\n",
        "        if not val:\n",
        "            # zero out grads\n",
        "            bert.zero_grad()\n",
        "\n",
        "        # get loss and preds\n",
        "        loss, preds = bert(\n",
        "            seqs,\n",
        "            attention_mask=masks,\n",
        "            labels=labels,\n",
        "            return_dict=False\n",
        "        )\n",
        "        \n",
        "        # calc and accumulate loss\n",
        "        if not val:\n",
        "            loss.backward()\n",
        "        tot_loss += loss.item()\n",
        "\n",
        "        # torch.nn.utils.clip_grad_norm_(bert.parameters(), 1.0)\n",
        "\n",
        "        if not val:\n",
        "            # descent step + set lr\n",
        "            optimizer.step()\n",
        "            scheduler.step()\n",
        "\n",
        "        pred_sentiment = preds.data.max(1)[1]\n",
        "        correct = pred_sentiment.eq(labels).cpu().sum()\n",
        "        accuracy = correct.item() / labels.size(0)\n",
        "        tot_accuracy += accuracy\n",
        "\n",
        "        if save_path and ((batch-1) % save_every == 0):\n",
        "            batch_save_path = save_path[:-4] + f'_{batch}.pth'\n",
        "            save(bert, optimizer, scheduler, save_path=batch_save_path)\n",
        "\n",
        "        if ((batch - 1) % print_batch_every == 0):\n",
        "            print(f'epoch: {epoch}\\tbatch: {batch}/{len(dataloader)}\\t{prepend}_acc: {accuracy}\\t{prepend}_loss: {loss.item()}')\n",
        "\n",
        "    tot_accuracy = tot_accuracy / len(dataloader)\n",
        "    tot_loss = tot_loss / len(dataloader)\n",
        "\n",
        "    print(f'{prepend} epoch: {epoch}\\t{prepend}_acc: {tot_accuracy}\\t{prepend}_loss: {tot_loss}')\n",
        "    \n",
        "    return tot_accuracy, tot_loss\n",
        "\n",
        "def load(model, optimizer, scheduler, load_path='./bert_sentiment140_fine_tuned.pth'):\n",
        "    checkpoint = torch.load(load_path, map_location='cpu')\n",
        "    model.load_state_dict(checkpoint['model_state_dict'])\n",
        "    optimizer.load_state_dict(checkpoint['optimizer_state_dict'])\n",
        "    scheduler.load_state_dict(checkpoint['scheduler_state_dict'])\n",
        "\n",
        "    return model, optimizer, scheduler\n",
        "\n",
        "def train(bert, train_dl, val_dl, optimizer=None, scheduler=None, epochs=4, lr=2e-5, eps=1e-8, print_batch_every=1000, save_every=10, save_path='./bert_sentiment140_fine_tuned.pth'):\n",
        "\n",
        "    optimizer = optimizer if optimizer != None else AdamW(bert.parameters(), lr=lr, eps=eps)\n",
        "    \n",
        "    total_steps = len(train_dl) * epochs\n",
        "    scheduler = scheduler if scheduler != None else get_linear_schedule_with_warmup(optimizer, num_warmup_steps=0, num_training_steps=total_steps)\n",
        "\n",
        "    train_accs, train_losses, val_accs, val_losses = [], [], [], []\n",
        "\n",
        "    save(bert, optimizer, scheduler, save_path=save_path)\n",
        "\n",
        "    for epoch in range(epochs):\n",
        "\n",
        "        batch_save_path = save_path[0:-4] + f'_{epoch}.pth'\n",
        "        train_accuracy, train_loss = train_step(\n",
        "            bert, train_dl,\n",
        "            optimizer, scheduler,\n",
        "            epoch=epoch,\n",
        "            print_batch_every=print_batch_every,\n",
        "            save_every=save_every,\n",
        "            save_path=batch_save_path\n",
        "        )\n",
        "\n",
        "        epoch_save_path = save_path[0:-4] + f'_{epoch}.pth'\n",
        "        save(bert, optimizer, scheduler, save_path=epoch_save_path)\n",
        "\n",
        "        val_accuracy, val_loss = 0, 0\n",
        "        with torch.no_grad():\n",
        "            val_accuracy, val_loss = train_step(\n",
        "                bert, val_dl,\n",
        "                optimizer, scheduler,\n",
        "                epoch=epoch,\n",
        "                print_batch_every=print_batch_every,\n",
        "                val=True,\n",
        "            )\n",
        "\n",
        "        train_accs.append(train_accuracy)\n",
        "        train_losses.append(train_loss)\n",
        "        val_accs.append(val_accuracy)\n",
        "        val_losses.append(val_loss)\n",
        "\n",
        "        np.savetxt('checkpoints/train_accs.txt', np.array(train_accs))\n",
        "        np.savetxt('checkpoints/train_losses.txt', np.array(train_losses))\n",
        "        np.savetxt('checkpoints/val_accs.txt', np.array(val_accs))\n",
        "        np.savetxt('checkpoints/val_losses.txt', np.array(val_losses))\n",
        "\n",
        "    return train_accs, train_losses, val_accs, val_losses"
      ]
    },
    {
      "cell_type": "code",
      "execution_count": 27,
      "metadata": {
        "id": "w6Dk0UtIJ98S",
        "outputId": "77826149-8b86-452b-f626-0a2fd2e14e24",
        "colab": {
          "base_uri": "https://localhost:8080/"
        }
      },
      "outputs": [
        {
          "output_type": "stream",
          "name": "stderr",
          "text": [
            "Some weights of the model checkpoint at distilbert-base-uncased were not used when initializing DistilBertForSequenceClassification: ['vocab_transform.weight', 'vocab_projector.bias', 'vocab_layer_norm.weight', 'vocab_projector.weight', 'vocab_transform.bias', 'vocab_layer_norm.bias']\n",
            "- This IS expected if you are initializing DistilBertForSequenceClassification from the checkpoint of a model trained on another task or with another architecture (e.g. initializing a BertForSequenceClassification model from a BertForPreTraining model).\n",
            "- This IS NOT expected if you are initializing DistilBertForSequenceClassification from the checkpoint of a model that you expect to be exactly identical (initializing a BertForSequenceClassification model from a BertForSequenceClassification model).\n",
            "Some weights of DistilBertForSequenceClassification were not initialized from the model checkpoint at distilbert-base-uncased and are newly initialized: ['classifier.bias', 'classifier.weight', 'pre_classifier.bias', 'pre_classifier.weight']\n",
            "You should probably TRAIN this model on a down-stream task to be able to use it for predictions and inference.\n"
          ]
        },
        {
          "output_type": "execute_result",
          "data": {
            "text/plain": [
              "DistilBertForSequenceClassification(\n",
              "  (distilbert): DistilBertModel(\n",
              "    (embeddings): Embeddings(\n",
              "      (word_embeddings): Embedding(30522, 768, padding_idx=0)\n",
              "      (position_embeddings): Embedding(512, 768)\n",
              "      (LayerNorm): LayerNorm((768,), eps=1e-12, elementwise_affine=True)\n",
              "      (dropout): Dropout(p=0.1, inplace=False)\n",
              "    )\n",
              "    (transformer): Transformer(\n",
              "      (layer): ModuleList(\n",
              "        (0-5): 6 x TransformerBlock(\n",
              "          (attention): MultiHeadSelfAttention(\n",
              "            (dropout): Dropout(p=0.1, inplace=False)\n",
              "            (q_lin): Linear(in_features=768, out_features=768, bias=True)\n",
              "            (k_lin): Linear(in_features=768, out_features=768, bias=True)\n",
              "            (v_lin): Linear(in_features=768, out_features=768, bias=True)\n",
              "            (out_lin): Linear(in_features=768, out_features=768, bias=True)\n",
              "          )\n",
              "          (sa_layer_norm): LayerNorm((768,), eps=1e-12, elementwise_affine=True)\n",
              "          (ffn): FFN(\n",
              "            (dropout): Dropout(p=0.1, inplace=False)\n",
              "            (lin1): Linear(in_features=768, out_features=3072, bias=True)\n",
              "            (lin2): Linear(in_features=3072, out_features=768, bias=True)\n",
              "            (activation): GELUActivation()\n",
              "          )\n",
              "          (output_layer_norm): LayerNorm((768,), eps=1e-12, elementwise_affine=True)\n",
              "        )\n",
              "      )\n",
              "    )\n",
              "  )\n",
              "  (pre_classifier): Linear(in_features=768, out_features=768, bias=True)\n",
              "  (classifier): Linear(in_features=768, out_features=2, bias=True)\n",
              "  (dropout): Dropout(p=0.2, inplace=False)\n",
              ")"
            ]
          },
          "metadata": {},
          "execution_count": 27
        }
      ],
      "source": [
        "from transformers import DistilBertForSequenceClassification\n",
        "# load DistilBert model and send to gpu\n",
        "bert = DistilBertForSequenceClassification.from_pretrained(\n",
        "    'distilbert-base-uncased', num_labels=len(df['polarity'].unique()),\n",
        "    output_attentions=False, output_hidden_states=False,\n",
        ")\n",
        "bert.to(device)"
      ]
    },
    {
      "cell_type": "code",
      "execution_count": 28,
      "metadata": {
        "id": "RK_p4VV8S6H6"
      },
      "outputs": [],
      "source": [
        "# train_accs, train_losses, val_accs, val_losses = train(bert, train_dl, val_dl, epochs=EPOCHS,\n",
        "#                                                        print_batch_every=100, save_every=1000, \n",
        "#                                                        save_path='./checkpoints/bert_sentiment140_fine_tuned.pth')"
      ]
    },
    {
      "cell_type": "markdown",
      "metadata": {
        "id": "I1hNrVupTaqS"
      },
      "source": [
        "## Analysis and Inference"
      ]
    },
    {
      "cell_type": "code",
      "execution_count": 29,
      "metadata": {
        "id": "elJDjQGBTaqa"
      },
      "outputs": [],
      "source": [
        "# TODO: Add code to download selected checkpoints from gdrive"
      ]
    },
    {
      "cell_type": "markdown",
      "metadata": {
        "id": "RphNNHHETaqb"
      },
      "source": [
        "First, we'll load the accuracy and losses for train vs val from saved files and plot."
      ]
    },
    {
      "cell_type": "code",
      "execution_count": 30,
      "metadata": {
        "id": "vh0v7KT1Taqb"
      },
      "outputs": [],
      "source": [
        "def load_model(load_path, epochs=1, lr=2e-5, eps=1e-8):\n",
        "    trained_bert = DistilBertForSequenceClassification.from_pretrained(\n",
        "        'distilbert-base-uncased', num_labels=len(df['polarity'].unique()),\n",
        "        output_attentions=False, output_hidden_states=False,\n",
        "    )\n",
        "    trained_bert.to(device)\n",
        "\n",
        "    optimizer = AdamW(bert.parameters(), lr=lr, eps=eps)\n",
        "        \n",
        "    total_steps = len(train_dl) * epochs\n",
        "    scheduler = get_linear_schedule_with_warmup(optimizer, num_warmup_steps=0, num_training_steps=total_steps)\n",
        "\n",
        "    trained_bert, optimizer, scheduler = load(trained_bert, optimizer, scheduler, load_path=load_path)\n",
        "\n",
        "    return trained_bert, optimizer, scheduler\n",
        "\n",
        "def load_train_stats(load_dir, files=['train_accs', 'train_losses', 'val_accs', 'val_losses']):\n",
        "    from pathlib import Path\n",
        "\n",
        "    stats = [np.loadtxt(Path(load_dir) / Path(f'{fn}.txt')) for fn in files]\n",
        "\n",
        "    return stats"
      ]
    },
    {
      "cell_type": "code",
      "execution_count": 31,
      "metadata": {
        "id": "73ExUT96Taqb"
      },
      "outputs": [],
      "source": [
        "train_accs, train_losses, val_accs, val_losses = load_train_stats('select_saved_checkpoints')"
      ]
    },
    {
      "cell_type": "code",
      "execution_count": 32,
      "metadata": {
        "id": "i8HujtxjTaqb"
      },
      "outputs": [],
      "source": [
        "import matplotlib.pyplot as plt\n",
        "\n",
        "def train_val_plot(plot, train_data, val_data,\n",
        "                   x_label='', y_label='',\n",
        "                   train_legend='', val_legend='',\n",
        "                   train_color='blue', val_color='red',\n",
        "                   title=''):\n",
        "    \n",
        "    \n",
        "    xs = range(1, len(train_data)+1)\n",
        "    plot.set_xticks(xs)\n",
        "    \n",
        "    plot.plot(xs, train_data, label=train_legend, color=train_color)\n",
        "    plot.plot(xs, val_data, label=val_legend, color=val_color)\n",
        "\n",
        "    plot.set_xlabel(x_label)\n",
        "    plot.set_ylabel(y_label)\n",
        "\n",
        "    plot.set_title(title)\n",
        "    plot.legend()"
      ]
    },
    {
      "cell_type": "code",
      "execution_count": 33,
      "metadata": {
        "id": "2JilWEGETaqb",
        "outputId": "e873f4fb-f693-4279-8045-6373bdff312f",
        "colab": {
          "base_uri": "https://localhost:8080/",
          "height": 0
        }
      },
      "outputs": [
        {
          "output_type": "display_data",
          "data": {
            "text/plain": [
              "<Figure size 1000x400 with 2 Axes>"
            ],
            "image/png": "[encoded data removed]"
          },
          "metadata": {}
        }
      ],
      "source": [
        "fig, axs = plt.subplots(1, 2, figsize=(10, 4))\n",
        "\n",
        "train_val_plot(axs[0], train_accs, val_accs,\n",
        "               x_label='Epoch', y_label='Accuracy', \n",
        "               train_legend='Train Accs', val_legend='Val Accs',\n",
        "               title='Accuracy by Epoch')\n",
        "\n",
        "train_val_plot(axs[1], train_losses, val_losses,\n",
        "               x_label='Epoch', y_label='Loss', \n",
        "               train_legend='Train Loss', val_legend='Val Loss',\n",
        "               title='Loss by Epoch')\n",
        "\n",
        "fig.show()"
      ]
    },
    {
      "cell_type": "markdown",
      "metadata": {
        "id": "js2G6V2pTaqb"
      },
      "source": [
        "Notably, after only one epoch our accuracy on validation data reaches about 85%. Furthermore, after the second epoch, the model begins to overfit and val accuracy suffers. So, the optimal version of this fine-tuned model is that from epoch 1."
      ]
    },
    {
      "cell_type": "markdown",
      "metadata": {
        "id": "cx7PwXIDTaqb"
      },
      "source": [
        "Next, to minimize computational cost, I will only perform inference on a subset of train data.\n",
        "\n",
        "Furthermore, in the final table, I will set \"negative\" training data to -1 rather than 0 for visualization purposes."
      ]
    },
    {
      "cell_type": "code",
      "execution_count": 34,
      "metadata": {
        "id": "5thZauI7Taqb",
        "outputId": "961c3660-90a3-422b-f59e-3ebd85cd9a32",
        "colab": {
          "base_uri": "https://localhost:8080/"
        }
      },
      "outputs": [
        {
          "output_type": "stream",
          "name": "stderr",
          "text": [
            "Some weights of the model checkpoint at distilbert-base-uncased were not used when initializing DistilBertForSequenceClassification: ['vocab_transform.weight', 'vocab_projector.bias', 'vocab_layer_norm.weight', 'vocab_projector.weight', 'vocab_transform.bias', 'vocab_layer_norm.bias']\n",
            "- This IS expected if you are initializing DistilBertForSequenceClassification from the checkpoint of a model trained on another task or with another architecture (e.g. initializing a BertForSequenceClassification model from a BertForPreTraining model).\n",
            "- This IS NOT expected if you are initializing DistilBertForSequenceClassification from the checkpoint of a model that you expect to be exactly identical (initializing a BertForSequenceClassification model from a BertForSequenceClassification model).\n",
            "Some weights of DistilBertForSequenceClassification were not initialized from the model checkpoint at distilbert-base-uncased and are newly initialized: ['classifier.bias', 'classifier.weight', 'pre_classifier.bias', 'pre_classifier.weight']\n",
            "You should probably TRAIN this model on a down-stream task to be able to use it for predictions and inference.\n",
            "/usr/local/lib/python3.10/dist-packages/transformers/optimization.py:407: FutureWarning: This implementation of AdamW is deprecated and will be removed in a future version. Use the PyTorch implementation torch.optim.AdamW instead, or set `no_deprecation_warning=True` to disable this warning\n",
            "  warnings.warn(\n"
          ]
        }
      ],
      "source": [
        "optimal_bert, optimal_optimizer, optimal_scheduler = load_model('./select_saved_checkpoints/bert_sentiment140_fine_tuned_1.pth')"
      ]
    },
    {
      "cell_type": "code",
      "execution_count": 35,
      "metadata": {
        "id": "2xfyPs5TTaqb"
      },
      "outputs": [],
      "source": [
        "import random\n",
        "\n",
        "NUM_INFERENCE_SAMPLES = 5000\n",
        "\n",
        "indices = random.sample(range(len(X_test)), NUM_INFERENCE_SAMPLES)\n",
        "\n",
        "X_inf = [X_test[i] for i in indices]\n",
        "y_inf = [y_test[i] for i in indices]"
      ]
    },
    {
      "cell_type": "code",
      "execution_count": 36,
      "metadata": {
        "id": "k8q-fwNYTaqb"
      },
      "outputs": [],
      "source": [
        "inf_data = BertTokenizedTweetsDataset(X_test=X_inf, y_test=y_inf, train=False)\n",
        "inf_dl = DataLoader(inf_data, batch_size=10, shuffle=False)"
      ]
    },
    {
      "cell_type": "code",
      "execution_count": 37,
      "metadata": {
        "id": "uAnmf4j1Taqb"
      },
      "outputs": [],
      "source": [
        "def inference(bert, dataloader, sent_data):\n",
        "\n",
        "    NEG_ONE_HOT = torch.tensor([1, 0]).to(torch.float32).to(device)\n",
        "    POS_ONE_HOT = torch.tensor([0, 1]).to(torch.float32).to(device)\n",
        "\n",
        "    import warnings\n",
        "    warnings.filterwarnings('ignore')\n",
        "    with torch.no_grad():\n",
        "\n",
        "        res_df = pd.DataFrame(columns=['Tweet', 'Label', 'Prediction', 'Approx Sent', 'Cross Entropy'])\n",
        "\n",
        "        data_index = 0\n",
        "        \n",
        "        # tracking vars\n",
        "        tot_accuracy = 0\n",
        "        tot_loss = 0\n",
        "        batch = 0\n",
        "\n",
        "        for data in tqdm(iter(dataloader)):\n",
        "\n",
        "            batch += 1\n",
        "\n",
        "            # get data and send to gpu\n",
        "            seqs, masks, labels = data\n",
        "\n",
        "            # align dims\n",
        "            seqs = torch.squeeze(seqs.transpose(2, 1)).to(device)\n",
        "            masks = torch.squeeze(masks.transpose(2, 1)).to(device)\n",
        "            labels = torch.squeeze(labels).to(device)\n",
        "\n",
        "            # get loss and preds\n",
        "            loss, preds = bert(\n",
        "                seqs,\n",
        "                attention_mask=masks,\n",
        "                labels=labels,\n",
        "                return_dict=False\n",
        "            )\n",
        "            \n",
        "            # calc and accumulate loss\n",
        "            tot_loss += loss.item()\n",
        "\n",
        "            pred_sentiment = preds.data.max(1)[1]\n",
        "            correct = pred_sentiment.eq(labels).cpu().sum()\n",
        "            accuracy = correct.item() / labels.size(0)\n",
        "\n",
        "            tot_accuracy += accuracy\n",
        "\n",
        "            for i in range(labels.size(0)):\n",
        "                sentence = sent_data[data_index]\n",
        "                real_label = 1 if labels[i] > 0 else -1\n",
        "                pred = 1 if pred_sentiment[i].item() > 0 else -1\n",
        "\n",
        "                # softmax to get approx probability for each label\n",
        "                # then calc approx sentiment using expected value\n",
        "                softmaxed_pred = torch.nn.functional.softmax(preds[i], dim=0)\n",
        "                neg_prob, pos_prob = softmaxed_pred\n",
        "                approx_pred = (-1*neg_prob + 1*pos_prob).item()\n",
        "\n",
        "                # get cross entropy loss\n",
        "                ce = torch.nn.functional.cross_entropy(softmaxed_pred, POS_ONE_HOT if real_label > 0 else NEG_ONE_HOT)\n",
        "    \n",
        "                res_df_row = { \n",
        "                    'Tweet': sentence,\n",
        "                    'Label': real_label,\n",
        "                    'Prediction': pred,\n",
        "                    'Approx Sent': approx_pred,\n",
        "                    'Cross Entropy': ce.item(),\n",
        "                }\n",
        "                res_df.loc[len(res_df)] = res_df_row\n",
        "\n",
        "                data_index += 1\n",
        "\n",
        "\n",
        "        tot_accuracy = tot_accuracy / len(dataloader)\n",
        "        tot_loss = tot_loss / len(dataloader)\n",
        "        \n",
        "        return res_df, tot_accuracy, tot_loss"
      ]
    },
    {
      "cell_type": "code",
      "execution_count": 38,
      "metadata": {
        "id": "V2rZrCVdTaqb",
        "outputId": "aff26671-8b2b-46fa-af7c-7d053dff2da7",
        "colab": {
          "base_uri": "https://localhost:8080/"
        }
      },
      "outputs": [
        {
          "output_type": "stream",
          "name": "stderr",
          "text": [
            "100%|██████████| 500/500 [00:45<00:00, 11.00it/s]\n"
          ]
        }
      ],
      "source": [
        "res_df, inf_acc, inf_loss = inference(optimal_bert, inf_dl, X_inf)"
      ]
    },
    {
      "cell_type": "code",
      "execution_count": 39,
      "metadata": {
        "id": "ZoFjonI7Taqc",
        "outputId": "0905c2db-065e-45ed-f127-6cd8194a595a",
        "colab": {
          "base_uri": "https://localhost:8080/",
          "height": 0
        }
      },
      "outputs": [
        {
          "output_type": "execute_result",
          "data": {
            "text/plain": [
              "                                                  Tweet  Label  Prediction  \\\n",
              "1842           it ' s not me . promise . . creepy huh ?     -1          -1   \n",
              "1629  that was a mission . had to get my to 500 . u ...      1           1   \n",
              "3269                           !!!! its always the same     -1          -1   \n",
              "632                          an ear infection coming on     -1          -1   \n",
              "1495  you know you ' win . you always do !! but , i ...      1           1   \n",
              "2798    i just love that ... so much . they are so so !      1           1   \n",
              "4507  he come to the party : s me and my friend just...      1           1   \n",
              "371            so my phone is now dead and gone forever     -1          -1   \n",
              "2104  pushing live from pit and into a virtuoso trip...      1           1   \n",
              "4246  welcome home (: i cant wait to get ur your my ...      1           1   \n",
              "\n",
              "      Approx Sent  Cross Entropy  \n",
              "1842    -0.035967       0.675325  \n",
              "1629     0.983639       0.317688  \n",
              "3269    -0.371299       0.524632  \n",
              "632     -0.993179       0.315101  \n",
              "1495     0.662096       0.415923  \n",
              "2798     0.739435       0.390273  \n",
              "4507     0.080402       0.653754  \n",
              "371     -0.973263       0.320523  \n",
              "2104     0.995818       0.314388  \n",
              "4246     0.991206       0.315634  "
            ],
            "text/html": [
              "\n",
              "  <div id=\"df-4ea456d9-702e-4af6-8007-8818815a5637\">\n",
              "    <div class=\"colab-df-container\">\n",
              "      <div>\n",
              "<style scoped>\n",
              "    .dataframe tbody tr th:only-of-type {\n",
              "        vertical-align: middle;\n",
              "    }\n",
              "\n",
              "    .dataframe tbody tr th {\n",
              "        vertical-align: top;\n",
              "    }\n",
              "\n",
              "    .dataframe thead th {\n",
              "        text-align: right;\n",
              "    }\n",
              "</style>\n",
              "<table border=\"1\" class=\"dataframe\">\n",
              "  <thead>\n",
              "    <tr style=\"text-align: right;\">\n",
              "      <th></th>\n",
              "      <th>Tweet</th>\n",
              "      <th>Label</th>\n",
              "      <th>Prediction</th>\n",
              "      <th>Approx Sent</th>\n",
              "      <th>Cross Entropy</th>\n",
              "    </tr>\n",
              "  </thead>\n",
              "  <tbody>\n",
              "    <tr>\n",
              "      <th>1842</th>\n",
              "      <td>it ' s not me . promise . . creepy huh ?</td>\n",
              "      <td>-1</td>\n",
              "      <td>-1</td>\n",
              "      <td>-0.035967</td>\n",
              "      <td>0.675325</td>\n",
              "    </tr>\n",
              "    <tr>\n",
              "      <th>1629</th>\n",
              "      <td>that was a mission . had to get my to 500 . u ...</td>\n",
              "      <td>1</td>\n",
              "      <td>1</td>\n",
              "      <td>0.983639</td>\n",
              "      <td>0.317688</td>\n",
              "    </tr>\n",
              "    <tr>\n",
              "      <th>3269</th>\n",
              "      <td>!!!! its always the same</td>\n",
              "      <td>-1</td>\n",
              "      <td>-1</td>\n",
              "      <td>-0.371299</td>\n",
              "      <td>0.524632</td>\n",
              "    </tr>\n",
              "    <tr>\n",
              "      <th>632</th>\n",
              "      <td>an ear infection coming on</td>\n",
              "      <td>-1</td>\n",
              "      <td>-1</td>\n",
              "      <td>-0.993179</td>\n",
              "      <td>0.315101</td>\n",
              "    </tr>\n",
              "    <tr>\n",
              "      <th>1495</th>\n",
              "      <td>you know you ' win . you always do !! but , i ...</td>\n",
              "      <td>1</td>\n",
              "      <td>1</td>\n",
              "      <td>0.662096</td>\n",
              "      <td>0.415923</td>\n",
              "    </tr>\n",
              "    <tr>\n",
              "      <th>2798</th>\n",
              "      <td>i just love that ... so much . they are so so !</td>\n",
              "      <td>1</td>\n",
              "      <td>1</td>\n",
              "      <td>0.739435</td>\n",
              "      <td>0.390273</td>\n",
              "    </tr>\n",
              "    <tr>\n",
              "      <th>4507</th>\n",
              "      <td>he come to the party : s me and my friend just...</td>\n",
              "      <td>1</td>\n",
              "      <td>1</td>\n",
              "      <td>0.080402</td>\n",
              "      <td>0.653754</td>\n",
              "    </tr>\n",
              "    <tr>\n",
              "      <th>371</th>\n",
              "      <td>so my phone is now dead and gone forever</td>\n",
              "      <td>-1</td>\n",
              "      <td>-1</td>\n",
              "      <td>-0.973263</td>\n",
              "      <td>0.320523</td>\n",
              "    </tr>\n",
              "    <tr>\n",
              "      <th>2104</th>\n",
              "      <td>pushing live from pit and into a virtuoso trip...</td>\n",
              "      <td>1</td>\n",
              "      <td>1</td>\n",
              "      <td>0.995818</td>\n",
              "      <td>0.314388</td>\n",
              "    </tr>\n",
              "    <tr>\n",
              "      <th>4246</th>\n",
              "      <td>welcome home (: i cant wait to get ur your my ...</td>\n",
              "      <td>1</td>\n",
              "      <td>1</td>\n",
              "      <td>0.991206</td>\n",
              "      <td>0.315634</td>\n",
              "    </tr>\n",
              "  </tbody>\n",
              "</table>\n",
              "</div>\n",
              "      <button class=\"colab-df-convert\" onclick=\"convertToInteractive('df-4ea456d9-702e-4af6-8007-8818815a5637')\"\n",
              "              title=\"Convert this dataframe to an interactive table.\"\n",
              "              style=\"display:none;\">\n",
              "        \n",
              "  <svg xmlns=\"http://www.w3.org/2000/svg\" height=\"24px\"viewBox=\"0 0 24 24\"\n",
              "       width=\"24px\">\n",
              "    <path d=\"M0 0h24v24H0V0z\" fill=\"none\"/>\n",
              "    <path d=\"M18.56 5.44l.94 2.06.94-2.06 2.06-.94-2.06-.94-.94-2.06-.94 2.06-2.06.94zm-11 1L8.5 8.5l.94-2.06 2.06-.94-2.06-.94L8.5 2.5l-.94 2.06-2.06.94zm10 10l.94 2.06.94-2.06 2.06-.94-2.06-.94-.94-2.06-.94 2.06-2.06.94z\"/><path d=\"M17.41 7.96l-1.37-1.37c-.4-.4-.92-.59-1.43-.59-.52 0-1.04.2-1.43.59L10.3 9.45l-7.72 7.72c-.78.78-.78 2.05 0 2.83L4 21.41c.39.39.9.59 1.41.59.51 0 1.02-.2 1.41-.59l7.78-7.78 2.81-2.81c.8-.78.8-2.07 0-2.86zM5.41 20L4 18.59l7.72-7.72 1.47 1.35L5.41 20z\"/>\n",
              "  </svg>\n",
              "      </button>\n",
              "      \n",
              "  <style>\n",
              "    .colab-df-container {\n",
              "      display:flex;\n",
              "      flex-wrap:wrap;\n",
              "      gap: 12px;\n",
              "    }\n",
              "\n",
              "    .colab-df-convert {\n",
              "      background-color: #E8F0FE;\n",
              "      border: none;\n",
              "      border-radius: 50%;\n",
              "      cursor: pointer;\n",
              "      display: none;\n",
              "      fill: #1967D2;\n",
              "      height: 32px;\n",
              "      padding: 0 0 0 0;\n",
              "      width: 32px;\n",
              "    }\n",
              "\n",
              "    .colab-df-convert:hover {\n",
              "      background-color: #E2EBFA;\n",
              "      box-shadow: 0px 1px 2px rgba(60, 64, 67, 0.3), 0px 1px 3px 1px rgba(60, 64, 67, 0.15);\n",
              "      fill: #174EA6;\n",
              "    }\n",
              "\n",
              "    [theme=dark] .colab-df-convert {\n",
              "      background-color: #3B4455;\n",
              "      fill: #D2E3FC;\n",
              "    }\n",
              "\n",
              "    [theme=dark] .colab-df-convert:hover {\n",
              "      background-color: #434B5C;\n",
              "      box-shadow: 0px 1px 3px 1px rgba(0, 0, 0, 0.15);\n",
              "      filter: drop-shadow(0px 1px 2px rgba(0, 0, 0, 0.3));\n",
              "      fill: #FFFFFF;\n",
              "    }\n",
              "  </style>\n",
              "\n",
              "      <script>\n",
              "        const buttonEl =\n",
              "          document.querySelector('#df-4ea456d9-702e-4af6-8007-8818815a5637 button.colab-df-convert');\n",
              "        buttonEl.style.display =\n",
              "          google.colab.kernel.accessAllowed ? 'block' : 'none';\n",
              "\n",
              "        async function convertToInteractive(key) {\n",
              "          const element = document.querySelector('#df-4ea456d9-702e-4af6-8007-8818815a5637');\n",
              "          const dataTable =\n",
              "            await google.colab.kernel.invokeFunction('convertToInteractive',\n",
              "                                                     [key], {});\n",
              "          if (!dataTable) return;\n",
              "\n",
              "          const docLinkHtml = 'Like what you see? Visit the ' +\n",
              "            '<a target=\"_blank\" href=https://colab.research.google.com/notebooks/data_table.ipynb>data table notebook</a>'\n",
              "            + ' to learn more about interactive tables.';\n",
              "          element.innerHTML = '';\n",
              "          dataTable['output_type'] = 'display_data';\n",
              "          await google.colab.output.renderOutput(dataTable, element);\n",
              "          const docLink = document.createElement('div');\n",
              "          docLink.innerHTML = docLinkHtml;\n",
              "          element.appendChild(docLink);\n",
              "        }\n",
              "      </script>\n",
              "    </div>\n",
              "  </div>\n",
              "  "
            ]
          },
          "metadata": {},
          "execution_count": 39
        }
      ],
      "source": [
        "res_df.sample(10)"
      ]
    },
    {
      "cell_type": "code",
      "execution_count": 40,
      "metadata": {
        "id": "6L7WfJQsTaqc",
        "outputId": "68c27aa1-65b7-462f-a812-4821774ff912",
        "colab": {
          "base_uri": "https://localhost:8080/"
        }
      },
      "outputs": [
        {
          "output_type": "stream",
          "name": "stdout",
          "text": [
            "Inference:\tAccuracy: 0.84\tLoss: 0.35\n"
          ]
        }
      ],
      "source": [
        "print(f'Inference:\\tAccuracy: {inf_acc:.2f}\\tLoss: {inf_loss:.2f}')"
      ]
    },
    {
      "cell_type": "markdown",
      "source": [
        "Note that we also computed an \"Approximate Sentiment\" using expected value with the probs from the softmaxed output nodes. Interestingly, the correctly classified tweets tend to have more extreme sentiments.\n",
        "\n",
        "This expected value seems like it would be a useful statistic in a real-world app or context."
      ],
      "metadata": {
        "id": "2zi2w1fSEvma"
      }
    },
    {
      "cell_type": "code",
      "execution_count": 41,
      "metadata": {
        "id": "EuF06RNSTaqc"
      },
      "outputs": [],
      "source": [
        "import seaborn as sns\n",
        "\n",
        "match_df = res_df.loc[(res_df['Label'] == res_df['Prediction'])]\n",
        "mismatch_df = res_df.loc[(res_df['Label'] != res_df['Prediction'])]"
      ]
    },
    {
      "cell_type": "code",
      "execution_count": 42,
      "metadata": {
        "id": "b72qgztkTaqc",
        "outputId": "7dc80336-c11b-4841-f23c-3599593c7f6a",
        "colab": {
          "base_uri": "https://localhost:8080/",
          "height": 0
        }
      },
      "outputs": [
        {
          "output_type": "execute_result",
          "data": {
            "text/plain": [
              "<seaborn.axisgrid.FacetGrid at 0x7f84dc425b70>"
            ]
          },
          "metadata": {},
          "execution_count": 42
        },
        {
          "output_type": "display_data",
          "data": {
            "text/plain": [
              "<Figure size 500x500 with 1 Axes>"
            ],
            "image/png": "[encoded data removed]"
          },
          "metadata": {}
        },
        {
          "output_type": "display_data",
          "data": {
            "text/plain": [
              "<Figure size 500x500 with 1 Axes>"
            ],
            "image/png": "[encoded data removed]"
          },
          "metadata": {}
        }
      ],
      "source": [
        "sns.displot(match_df, x='Approx Sent', color='blue')\n",
        "sns.displot(mismatch_df, x='Approx Sent', color='red')"
      ]
    },
    {
      "cell_type": "markdown",
      "metadata": {
        "id": "Nb-x_MA3Taqc"
      },
      "source": [
        "## Improving Accuracy"
      ]
    },
    {
      "cell_type": "markdown",
      "metadata": {
        "id": "zwngV_6wTaqc"
      },
      "source": [
        "Our vanilla accuracy on such a large dataset is okay, but not ideal. We will use labels with high cross entropy loss in predictions (since these will be the 'worst' predictions). To do this, we will examine what losses sufficiently represent a correct classification."
      ]
    },
    {
      "cell_type": "code",
      "execution_count": 43,
      "metadata": {
        "id": "MQDMyfD0Taqc",
        "outputId": "7f266bcb-f3ee-48ff-fd2d-b13ddb96c74f",
        "colab": {
          "base_uri": "https://localhost:8080/",
          "height": 0
        }
      },
      "outputs": [
        {
          "output_type": "execute_result",
          "data": {
            "text/plain": [
              "<seaborn.axisgrid.FacetGrid at 0x7f84dc32b850>"
            ]
          },
          "metadata": {},
          "execution_count": 43
        },
        {
          "output_type": "display_data",
          "data": {
            "text/plain": [
              "<Figure size 500x500 with 1 Axes>"
            ],
            "image/png": "[encoded data removed]"
          },
          "metadata": {}
        },
        {
          "output_type": "display_data",
          "data": {
            "text/plain": [
              "<Figure size 500x500 with 1 Axes>"
            ],
            "image/png": "[encoded data removed]"
          },
          "metadata": {}
        }
      ],
      "source": [
        "sns.displot(match_df, x='Cross Entropy', color='blue')\n",
        "sns.displot(mismatch_df, x='Cross Entropy', color='red')"
      ]
    },
    {
      "cell_type": "markdown",
      "metadata": {
        "id": "6_XeolD_Taqc"
      },
      "source": [
        "Properly classified datapoints all have &lt; .7 loss, while misclassified data has &gt; 0.7 loss.\n",
        "\n",
        "Since DistilBert is such a large model, it should be difficult to overfit. So, I will try retraining on data with &gt; 0.7 loss."
      ]
    },
    {
      "cell_type": "markdown",
      "metadata": {
        "id": "xWzCjNQYTaqc"
      },
      "source": [
        "## Retraining On Failure Cases"
      ]
    },
    {
      "cell_type": "code",
      "source": [
        "import random\n",
        "\n",
        "NUM_INFERENCE_SAMPLES = int(len(X_train) / 10)\n",
        "\n",
        "indices = random.sample(range(len(X_train)), NUM_INFERENCE_SAMPLES)\n",
        "\n",
        "X_train_subset = [X_train[i] for i in indices]\n",
        "y_train_subset = [y_train[i] for i in indices]"
      ],
      "metadata": {
        "id": "v0cLDdw_rPTu"
      },
      "execution_count": 44,
      "outputs": []
    },
    {
      "cell_type": "code",
      "source": [
        "train_subset_data = BertTokenizedTweetsDataset(X_train=X_train_subset, y_train=y_train_subset, train=True)\n",
        "train_subset_dl = DataLoader(train_subset_data, batch_size=128, shuffle=False)"
      ],
      "metadata": {
        "id": "f8uoooI0rTch"
      },
      "execution_count": 45,
      "outputs": []
    },
    {
      "cell_type": "code",
      "execution_count": 46,
      "metadata": {
        "id": "ShTXXaU6Taqc"
      },
      "outputs": [],
      "source": [
        "mismatch_df, _, _ = inference(optimal_bert, train_subset_dl, X_train_subset)"
      ]
    },
    {
      "cell_type": "code",
      "source": [
        "mismatch_df.sample(5)"
      ],
      "metadata": {
        "id": "DVm2lC2VD0Os"
      },
      "execution_count": 47,
      "outputs": []
    },
    {
      "cell_type": "code",
      "source": [
        "retrain_df = mismatch_df.loc[mismatch_df['Cross Entropy'] >= 0.7]\n",
        "# uncomment below if reading from csv\n",
        "# retrain_df = pd.read_csv('retrain_df.tsv', sep='\\t')\n",
        "retrain_df = retrain_df.loc[retrain_df['Tweet'].apply(type) == str]"
      ],
      "metadata": {
        "id": "x57DDug_Du0x"
      },
      "execution_count": 48,
      "outputs": []
    },
    {
      "cell_type": "code",
      "source": [
        "retrain_df.sample(5)"
      ],
      "metadata": {
        "colab": {
          "base_uri": "https://localhost:8080/",
          "height": 206
        },
        "id": "H2ZYk2zeEIBF",
        "outputId": "816ec559-8d44-4832-8b97-ddba4f2e93b4"
      },
      "execution_count": 49,
      "outputs": [
        {
          "output_type": "execute_result",
          "data": {
            "text/plain": [
              "     Unnamed: 0                                              Tweet  Label  \\\n",
              "515        3281                      just a baby step ! i miss you      1   \n",
              "491        3102  that was but thank you for comforting me * not...     -1   \n",
              "518        3303                                                yea      1   \n",
              "272        1771                                        mi crisis !     -1   \n",
              "85          624     wow that must of been amazing wish i was there     -1   \n",
              "\n",
              "     Prediction  Approx Sent  Cross Entropy  \n",
              "515          -1    -0.731965       1.124658  \n",
              "491           1     0.523632       0.988852  \n",
              "518          -1    -0.419842       0.924941  \n",
              "272           1     0.171026       0.782312  \n",
              "85            1     0.177949       0.786075  "
            ],
            "text/html": [
              "\n",
              "  <div id=\"df-f3600619-949f-46ef-814e-6d241fd758a5\">\n",
              "    <div class=\"colab-df-container\">\n",
              "      <div>\n",
              "<style scoped>\n",
              "    .dataframe tbody tr th:only-of-type {\n",
              "        vertical-align: middle;\n",
              "    }\n",
              "\n",
              "    .dataframe tbody tr th {\n",
              "        vertical-align: top;\n",
              "    }\n",
              "\n",
              "    .dataframe thead th {\n",
              "        text-align: right;\n",
              "    }\n",
              "</style>\n",
              "<table border=\"1\" class=\"dataframe\">\n",
              "  <thead>\n",
              "    <tr style=\"text-align: right;\">\n",
              "      <th></th>\n",
              "      <th>Unnamed: 0</th>\n",
              "      <th>Tweet</th>\n",
              "      <th>Label</th>\n",
              "      <th>Prediction</th>\n",
              "      <th>Approx Sent</th>\n",
              "      <th>Cross Entropy</th>\n",
              "    </tr>\n",
              "  </thead>\n",
              "  <tbody>\n",
              "    <tr>\n",
              "      <th>515</th>\n",
              "      <td>3281</td>\n",
              "      <td>just a baby step ! i miss you</td>\n",
              "      <td>1</td>\n",
              "      <td>-1</td>\n",
              "      <td>-0.731965</td>\n",
              "      <td>1.124658</td>\n",
              "    </tr>\n",
              "    <tr>\n",
              "      <th>491</th>\n",
              "      <td>3102</td>\n",
              "      <td>that was but thank you for comforting me * not...</td>\n",
              "      <td>-1</td>\n",
              "      <td>1</td>\n",
              "      <td>0.523632</td>\n",
              "      <td>0.988852</td>\n",
              "    </tr>\n",
              "    <tr>\n",
              "      <th>518</th>\n",
              "      <td>3303</td>\n",
              "      <td>yea</td>\n",
              "      <td>1</td>\n",
              "      <td>-1</td>\n",
              "      <td>-0.419842</td>\n",
              "      <td>0.924941</td>\n",
              "    </tr>\n",
              "    <tr>\n",
              "      <th>272</th>\n",
              "      <td>1771</td>\n",
              "      <td>mi crisis !</td>\n",
              "      <td>-1</td>\n",
              "      <td>1</td>\n",
              "      <td>0.171026</td>\n",
              "      <td>0.782312</td>\n",
              "    </tr>\n",
              "    <tr>\n",
              "      <th>85</th>\n",
              "      <td>624</td>\n",
              "      <td>wow that must of been amazing wish i was there</td>\n",
              "      <td>-1</td>\n",
              "      <td>1</td>\n",
              "      <td>0.177949</td>\n",
              "      <td>0.786075</td>\n",
              "    </tr>\n",
              "  </tbody>\n",
              "</table>\n",
              "</div>\n",
              "      <button class=\"colab-df-convert\" onclick=\"convertToInteractive('df-f3600619-949f-46ef-814e-6d241fd758a5')\"\n",
              "              title=\"Convert this dataframe to an interactive table.\"\n",
              "              style=\"display:none;\">\n",
              "        \n",
              "  <svg xmlns=\"http://www.w3.org/2000/svg\" height=\"24px\"viewBox=\"0 0 24 24\"\n",
              "       width=\"24px\">\n",
              "    <path d=\"M0 0h24v24H0V0z\" fill=\"none\"/>\n",
              "    <path d=\"M18.56 5.44l.94 2.06.94-2.06 2.06-.94-2.06-.94-.94-2.06-.94 2.06-2.06.94zm-11 1L8.5 8.5l.94-2.06 2.06-.94-2.06-.94L8.5 2.5l-.94 2.06-2.06.94zm10 10l.94 2.06.94-2.06 2.06-.94-2.06-.94-.94-2.06-.94 2.06-2.06.94z\"/><path d=\"M17.41 7.96l-1.37-1.37c-.4-.4-.92-.59-1.43-.59-.52 0-1.04.2-1.43.59L10.3 9.45l-7.72 7.72c-.78.78-.78 2.05 0 2.83L4 21.41c.39.39.9.59 1.41.59.51 0 1.02-.2 1.41-.59l7.78-7.78 2.81-2.81c.8-.78.8-2.07 0-2.86zM5.41 20L4 18.59l7.72-7.72 1.47 1.35L5.41 20z\"/>\n",
              "  </svg>\n",
              "      </button>\n",
              "      \n",
              "  <style>\n",
              "    .colab-df-container {\n",
              "      display:flex;\n",
              "      flex-wrap:wrap;\n",
              "      gap: 12px;\n",
              "    }\n",
              "\n",
              "    .colab-df-convert {\n",
              "      background-color: #E8F0FE;\n",
              "      border: none;\n",
              "      border-radius: 50%;\n",
              "      cursor: pointer;\n",
              "      display: none;\n",
              "      fill: #1967D2;\n",
              "      height: 32px;\n",
              "      padding: 0 0 0 0;\n",
              "      width: 32px;\n",
              "    }\n",
              "\n",
              "    .colab-df-convert:hover {\n",
              "      background-color: #E2EBFA;\n",
              "      box-shadow: 0px 1px 2px rgba(60, 64, 67, 0.3), 0px 1px 3px 1px rgba(60, 64, 67, 0.15);\n",
              "      fill: #174EA6;\n",
              "    }\n",
              "\n",
              "    [theme=dark] .colab-df-convert {\n",
              "      background-color: #3B4455;\n",
              "      fill: #D2E3FC;\n",
              "    }\n",
              "\n",
              "    [theme=dark] .colab-df-convert:hover {\n",
              "      background-color: #434B5C;\n",
              "      box-shadow: 0px 1px 3px 1px rgba(0, 0, 0, 0.15);\n",
              "      filter: drop-shadow(0px 1px 2px rgba(0, 0, 0, 0.3));\n",
              "      fill: #FFFFFF;\n",
              "    }\n",
              "  </style>\n",
              "\n",
              "      <script>\n",
              "        const buttonEl =\n",
              "          document.querySelector('#df-f3600619-949f-46ef-814e-6d241fd758a5 button.colab-df-convert');\n",
              "        buttonEl.style.display =\n",
              "          google.colab.kernel.accessAllowed ? 'block' : 'none';\n",
              "\n",
              "        async function convertToInteractive(key) {\n",
              "          const element = document.querySelector('#df-f3600619-949f-46ef-814e-6d241fd758a5');\n",
              "          const dataTable =\n",
              "            await google.colab.kernel.invokeFunction('convertToInteractive',\n",
              "                                                     [key], {});\n",
              "          if (!dataTable) return;\n",
              "\n",
              "          const docLinkHtml = 'Like what you see? Visit the ' +\n",
              "            '<a target=\"_blank\" href=https://colab.research.google.com/notebooks/data_table.ipynb>data table notebook</a>'\n",
              "            + ' to learn more about interactive tables.';\n",
              "          element.innerHTML = '';\n",
              "          dataTable['output_type'] = 'display_data';\n",
              "          await google.colab.output.renderOutput(dataTable, element);\n",
              "          const docLink = document.createElement('div');\n",
              "          docLink.innerHTML = docLinkHtml;\n",
              "          element.appendChild(docLink);\n",
              "        }\n",
              "      </script>\n",
              "    </div>\n",
              "  </div>\n",
              "  "
            ]
          },
          "metadata": {},
          "execution_count": 49
        }
      ]
    },
    {
      "cell_type": "code",
      "source": [
        "X_retrain = retrain_df['Tweet'].values\n",
        "y_retrain = [0 if y == -1 else 1 for y in retrain_df['Label'].values]"
      ],
      "metadata": {
        "id": "-qUQVRp_N-17"
      },
      "execution_count": 50,
      "outputs": []
    },
    {
      "cell_type": "code",
      "source": [
        "retrain_data = BertTokenizedTweetsDataset(X_train=X_retrain, y_train=y_retrain, train=True)\n",
        "retrain_dl = DataLoader(retrain_data, batch_size=BATCH_SIZE)"
      ],
      "metadata": {
        "id": "itJbVxgmFYJ7"
      },
      "execution_count": 51,
      "outputs": []
    },
    {
      "cell_type": "code",
      "source": [
        "retrain_accs, retrain_losses, reval_accs, reval_losses = train(optimal_bert.to(device), retrain_dl, val_dl, epochs=1,\n",
        "                                              print_batch_every=100, save_every=1000, \n",
        "                                              save_path='./checkpoints/bert_sentiment140_fine_tuned_retrained.pth')"
      ],
      "metadata": {
        "id": "rVF5OQ57GB2B"
      },
      "execution_count": null,
      "outputs": []
    },
    {
      "cell_type": "markdown",
      "metadata": {
        "id": "_5cY-eWLTaqc"
      },
      "source": [
        "## Some Final Logs"
      ]
    },
    {
      "cell_type": "markdown",
      "metadata": {
        "id": "_H602q1PTaqc"
      },
      "source": [
        "My model was originally trained on my PC, which currently does not have working WiFi. So, I am logging to WandB using my laptop."
      ]
    },
    {
      "cell_type": "code",
      "execution_count": null,
      "metadata": {
        "id": "V78PvuFKTaqc",
        "outputId": "c09db1b7-0b24-4276-a1f7-0f2ee644dd00"
      },
      "outputs": [
        {
          "name": "stderr",
          "output_type": "stream",
          "text": [
            "Failed to detect the name of this notebook, you can set it manually with the WANDB_NOTEBOOK_NAME environment variable to enable code saving.\n"
          ]
        },
        {
          "name": "stdout",
          "output_type": "stream",
          "text": [
            "Intel MKL WARNING: Support of Intel(R) Streaming SIMD Extensions 4.2 (Intel(R) SSE4.2) enabled only processors has been deprecated. Intel oneAPI Math Kernel Library 2025.0 will require Intel(R) Advanced Vector Extensions (Intel(R) AVX) instructions.\n",
            "Intel MKL WARNING: Support of Intel(R) Streaming SIMD Extensions 4.2 (Intel(R) SSE4.2) enabled only processors has been deprecated. Intel oneAPI Math Kernel Library 2025.0 will require Intel(R) Advanced Vector Extensions (Intel(R) AVX) instructions.\n"
          ]
        },
        {
          "name": "stderr",
          "output_type": "stream",
          "text": [
            "\u001b[34m\u001b[1mwandb\u001b[0m: Currently logged in as: \u001b[33marth-shukla\u001b[0m. Use \u001b[1m`wandb login --relogin`\u001b[0m to force relogin\n"
          ]
        },
        {
          "data": {
            "text/plain": [
              "True"
            ]
          },
          "execution_count": 42,
          "metadata": {},
          "output_type": "execute_result"
        }
      ],
      "source": [
        "import wandb\n",
        "\n",
        "# WANDB_API_KEY = # enter API key\n",
        "# wandb.login(key=WANDB_API_KEY)\n",
        "\n",
        "wandb.login()"
      ]
    },
    {
      "cell_type": "code",
      "execution_count": null,
      "metadata": {
        "id": "rA4DmCbSTaqc",
        "outputId": "8095f648-777c-489e-88ee-6474ec3c3941"
      },
      "outputs": [
        {
          "data": {
            "text/html": [
              "Tracking run with wandb version 0.15.3"
            ],
            "text/plain": [
              "<IPython.core.display.HTML object>"
            ]
          },
          "metadata": {},
          "output_type": "display_data"
        },
        {
          "data": {
            "text/html": [
              "Run data is saved locally in <code>/Users/arths/Documents/Coding/Personal/bert-sentiment-analysis/wandb/run-20230518_225839-2di1x1fm</code>"
            ],
            "text/plain": [
              "<IPython.core.display.HTML object>"
            ]
          },
          "metadata": {},
          "output_type": "display_data"
        },
        {
          "data": {
            "text/html": [
              "Syncing run <strong><a href='https://wandb.ai/arth-shukla/Sentiment140%20with%20Fine-Tuned%20DistilBERT/runs/2di1x1fm' target=\"_blank\">balmy-forest-1</a></strong> to <a href='https://wandb.ai/arth-shukla/Sentiment140%20with%20Fine-Tuned%20DistilBERT' target=\"_blank\">Weights & Biases</a> (<a href='https://wandb.me/run' target=\"_blank\">docs</a>)<br/>"
            ],
            "text/plain": [
              "<IPython.core.display.HTML object>"
            ]
          },
          "metadata": {},
          "output_type": "display_data"
        },
        {
          "data": {
            "text/html": [
              " View project at <a href='https://wandb.ai/arth-shukla/Sentiment140%20with%20Fine-Tuned%20DistilBERT' target=\"_blank\">https://wandb.ai/arth-shukla/Sentiment140%20with%20Fine-Tuned%20DistilBERT</a>"
            ],
            "text/plain": [
              "<IPython.core.display.HTML object>"
            ]
          },
          "metadata": {},
          "output_type": "display_data"
        },
        {
          "data": {
            "text/html": [
              " View run at <a href='https://wandb.ai/arth-shukla/Sentiment140%20with%20Fine-Tuned%20DistilBERT/runs/2di1x1fm' target=\"_blank\">https://wandb.ai/arth-shukla/Sentiment140%20with%20Fine-Tuned%20DistilBERT/runs/2di1x1fm</a>"
            ],
            "text/plain": [
              "<IPython.core.display.HTML object>"
            ]
          },
          "metadata": {},
          "output_type": "display_data"
        }
      ],
      "source": [
        "run = wandb.init(\n",
        "    project='Sentiment140 with Fine-Tuned DistilBERT',\n",
        "    notes='Transfer learning w/ DistilBERT pretrained distilbert-base-uncased model.'\n",
        ")\n",
        "\n",
        "wandb.config = {\n",
        "  \"epochs\": EPOCHS, \n",
        "  \"batch_size\": BATCH_SIZE\n",
        "}\n",
        "\n",
        "wandb.log({'acc_plot' : wandb.plot.line_series(\n",
        "      xs=range(1, EPOCHS+1), \n",
        "      ys=[train_accs, val_accs],\n",
        "      keys=['Train Acc', 'Val Acc'],\n",
        "      title='Accuracy by Epoch',\n",
        "      xname='Epochs')})\n",
        "wandb.log({'loss_plot' : wandb.plot.line_series(\n",
        "      xs=range(1, EPOCHS+1), \n",
        "      ys=[train_losses, val_losses],\n",
        "      keys=['Train Loss', 'Val Loss'],\n",
        "      title='Loss by Epoch',\n",
        "      xname='Epochs')})\n",
        "\n",
        "wandb.log({ 'Inference Examples': wandb.Table(data=res_df) })"
      ]
    }
  ],
  "metadata": {
    "accelerator": "GPU",
    "colab": {
      "collapsed_sections": [
        "f82EX4I4N2CS",
        "c7hk6zq2N2CU",
        "WxiK2EVGN2CX",
        "wrlYSMYechs3",
        "I1hNrVupTaqS",
        "Nb-x_MA3Taqc"
      ],
      "gpuType": "T4",
      "provenance": []
    },
    "gpuClass": "standard",
    "kernelspec": {
      "display_name": "bert-transfer-learning",
      "language": "python",
      "name": "python3"
    },
    "language_info": {
      "codemirror_mode": {
        "name": "ipython",
        "version": 3
      },
      "file_extension": ".py",
      "mimetype": "text/x-python",
      "name": "python",
      "nbconvert_exporter": "python",
      "pygments_lexer": "ipython3",
      "version": "3.11.3"
    },
    "orig_nbformat": 4
  },
  "nbformat": 4,
  "nbformat_minor": 0
}
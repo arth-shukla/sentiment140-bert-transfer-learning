{
  "cells": [
    {
      "attachments": {},
      "cell_type": "markdown",
      "metadata": {
        "id": "oFVsClSKN2CQ"
      },
      "source": [
        "# Sentiment 140 Twitter Sentiment Analysis"
      ]
    },
    {
      "attachments": {},
      "cell_type": "markdown",
      "metadata": {
        "id": "14kex5l6N2CR"
      },
      "source": [
        "I will be using the sentiment140 dataset from http://help.sentiment140.com/for-students/. It contains 1.6 million tweets labeled as negative (0) or positive (4). The website says there are tweets labeled neutral (2), but I could not find these in the emoji-cleaned data."
      ]
    },
    {
      "attachments": {},
      "cell_type": "markdown",
      "metadata": {
        "id": "f82EX4I4N2CS"
      },
      "source": [
        "## Setup"
      ]
    },
    {
      "attachments": {},
      "cell_type": "markdown",
      "metadata": {
        "id": "ZSG_F1qON2CS"
      },
      "source": [
        "Get packages"
      ]
    },
    {
      "cell_type": "code",
      "execution_count": 1,
      "metadata": {
        "colab": {
          "base_uri": "https://localhost:8080/"
        },
        "id": "oz40P4LbN2CS",
        "outputId": "e900ef97-9c7c-4aa5-c87c-e6dbb0352715"
      },
      "outputs": [
        {
          "name": "stderr",
          "output_type": "stream",
          "text": [
            "[nltk_data] Downloading package words to /Users/arths/nltk_data...\n",
            "[nltk_data]   Package words is already up-to-date!\n"
          ]
        }
      ],
      "source": [
        "import torch\n",
        "import numpy as np\n",
        "import pandas as pd\n",
        "import nltk\n",
        "nltk.download('words')\n",
        "\n",
        "from tqdm import tqdm"
      ]
    },
    {
      "cell_type": "code",
      "execution_count": 2,
      "metadata": {
        "colab": {
          "base_uri": "https://localhost:8080/"
        },
        "id": "v64KNC8TN2CU",
        "outputId": "8fca6098-6aa7-4458-93e4-af95c26db01c"
      },
      "outputs": [
        {
          "name": "stdout",
          "output_type": "stream",
          "text": [
            "cpu\n"
          ]
        }
      ],
      "source": [
        "device = torch.device('cpu') if not torch.cuda.is_available() else torch.device('cuda')\n",
        "print(device)"
      ]
    },
    {
      "attachments": {},
      "cell_type": "markdown",
      "metadata": {
        "id": "JkBn2L-jN2CU"
      },
      "source": [
        "Get sentiment140 dataset from http://help.sentiment140.com/for-students/"
      ]
    },
    {
      "cell_type": "code",
      "execution_count": 3,
      "metadata": {
        "colab": {
          "base_uri": "https://localhost:8080/"
        },
        "id": "-deQUrvAOK_q",
        "outputId": "9396a816-59ea-45e5-d4b1-be84cb988325"
      },
      "outputs": [],
      "source": [
        "# Uncomment if using colab\n",
        "# !pip install wget\n",
        "# !pip install transformers"
      ]
    },
    {
      "cell_type": "code",
      "execution_count": 4,
      "metadata": {
        "id": "bmsVCzWqN2CU"
      },
      "outputs": [],
      "source": [
        "def download_dataset(url, rename_stem='sentiment140'):\n",
        "    import wget\n",
        "    import zipfile\n",
        "    import os\n",
        "\n",
        "    data_zip_path = f'{rename_stem}.zip'\n",
        "    data_dir = f'{rename_stem}/'\n",
        "\n",
        "    if not os.path.exists(data_zip_path):\n",
        "        wget.download(url, data_zip_path)\n",
        "    if not os.path.exists(data_dir):\n",
        "        with zipfile.ZipFile(data_zip_path, 'r') as zip_ref:\n",
        "            zip_ref.extractall(data_dir)"
      ]
    },
    {
      "cell_type": "code",
      "execution_count": 5,
      "metadata": {
        "id": "cJ0VzjsAN2CU"
      },
      "outputs": [],
      "source": [
        "DATA_URL = 'http://cs.stanford.edu/people/alecmgo/trainingandtestdata.zip'\n",
        "download_dataset(DATA_URL)"
      ]
    },
    {
      "attachments": {},
      "cell_type": "markdown",
      "metadata": {
        "id": "c7hk6zq2N2CU"
      },
      "source": [
        "## Data Loading and Cleaning"
      ]
    },
    {
      "cell_type": "code",
      "execution_count": 6,
      "metadata": {
        "id": "M8z7GkJwN2CV"
      },
      "outputs": [],
      "source": [
        "def cleaner(tweet, valid_words=set()):\n",
        "     import re\n",
        "\n",
        "     # Remove @ sign and @s\n",
        "     tweet = re.sub('@[A-Za-z0-9]+', '', tweet)\n",
        "     tweet = re.sub('@', '', tweet)\n",
        "\n",
        "     # Remove http/https links\n",
        "     tweet = re.sub(r'(?:\\@|http?\\://|https?\\://|www)\\S+', '', tweet)\n",
        "     tweet = ' '.join(tweet.split())\n",
        "     \n",
        "     # Remove hashtag sign but keep the text\n",
        "     tweet = tweet.replace('#', '').replace('_', ' ')\n",
        "\n",
        "     # accept only valid words from nltk\n",
        "     tweet = ' '.join(w for w in nltk.wordpunct_tokenize(tweet) \\\n",
        "                      if w.lower() in valid_words or not w.isalpha())\n",
        "     \n",
        "     tweet = tweet.lower()\n",
        "     \n",
        "     return tweet"
      ]
    },
    {
      "cell_type": "code",
      "execution_count": 7,
      "metadata": {
        "id": "XxBstsk9N2CV"
      },
      "outputs": [],
      "source": [
        "columns = ['polarity', 'id', 'date', 'query', 'username', 'tweet']\n",
        "df = pd.read_csv('./sentiment140/training.1600000.processed.noemoticon.csv',\n",
        "                 encoding=\"ISO-8859-1\", header=None, names=columns)"
      ]
    },
    {
      "cell_type": "code",
      "execution_count": 8,
      "metadata": {
        "id": "O1IutoFG42vG"
      },
      "outputs": [
        {
          "data": {
            "text/plain": [
              "800000"
            ]
          },
          "execution_count": 8,
          "metadata": {},
          "output_type": "execute_result"
        }
      ],
      "source": [
        "len(df.index[df['polarity'] == 4].tolist())"
      ]
    },
    {
      "cell_type": "code",
      "execution_count": 9,
      "metadata": {
        "id": "S-KbaVXX4Rv3"
      },
      "outputs": [
        {
          "name": "stderr",
          "output_type": "stream",
          "text": [
            "100%|██████████| 1600000/1600000 [00:16<00:00, 95249.67it/s] \n"
          ]
        }
      ],
      "source": [
        "valid_words = set(nltk.corpus.words.words())\n",
        "tqdm.pandas()\n",
        "df['tweet'] = df['tweet'].progress_map(lambda x: cleaner(x, valid_words=valid_words))"
      ]
    },
    {
      "cell_type": "code",
      "execution_count": 10,
      "metadata": {
        "id": "q-pyzh-tU77V"
      },
      "outputs": [
        {
          "name": "stdout",
          "output_type": "stream",
          "text": [
            "[0 1]\n"
          ]
        }
      ],
      "source": [
        "# to match output convention later\n",
        "df.loc[df['polarity'] == 4, 'polarity'] = 1\n",
        "print(df['polarity'].unique())"
      ]
    },
    {
      "cell_type": "code",
      "execution_count": 11,
      "metadata": {
        "id": "77ZhViQ1N2CV"
      },
      "outputs": [
        {
          "name": "stdout",
          "output_type": "stream",
          "text": [
            "duplicated: 0\n",
            "null:\n",
            "polarity    1600000\n",
            "id          1600000\n",
            "date        1600000\n",
            "query       1600000\n",
            "username    1600000\n",
            "tweet       1600000\n",
            "dtype: int64\n"
          ]
        }
      ],
      "source": [
        "print('duplicated:', df.duplicated().sum())\n",
        "print('null:', df.notnull().sum(), sep='\\n')"
      ]
    },
    {
      "cell_type": "code",
      "execution_count": 12,
      "metadata": {
        "id": "OjBfn1YJN2CW"
      },
      "outputs": [
        {
          "name": "stdout",
          "output_type": "stream",
          "text": [
            "<class 'pandas.core.frame.DataFrame'>\n",
            "RangeIndex: 1600000 entries, 0 to 1599999\n",
            "Data columns (total 6 columns):\n",
            " #   Column    Non-Null Count    Dtype \n",
            "---  ------    --------------    ----- \n",
            " 0   polarity  1600000 non-null  int64 \n",
            " 1   id        1600000 non-null  int64 \n",
            " 2   date      1600000 non-null  object\n",
            " 3   query     1600000 non-null  object\n",
            " 4   username  1600000 non-null  object\n",
            " 5   tweet     1600000 non-null  object\n",
            "dtypes: int64(2), object(4)\n",
            "memory usage: 73.2+ MB\n"
          ]
        }
      ],
      "source": [
        "df.info()"
      ]
    },
    {
      "cell_type": "code",
      "execution_count": 13,
      "metadata": {
        "id": "Gh-bgX_eN2CW"
      },
      "outputs": [
        {
          "data": {
            "text/html": [
              "<div>\n",
              "<style scoped>\n",
              "    .dataframe tbody tr th:only-of-type {\n",
              "        vertical-align: middle;\n",
              "    }\n",
              "\n",
              "    .dataframe tbody tr th {\n",
              "        vertical-align: top;\n",
              "    }\n",
              "\n",
              "    .dataframe thead th {\n",
              "        text-align: right;\n",
              "    }\n",
              "</style>\n",
              "<table border=\"1\" class=\"dataframe\">\n",
              "  <thead>\n",
              "    <tr style=\"text-align: right;\">\n",
              "      <th></th>\n",
              "      <th>polarity</th>\n",
              "      <th>tweet</th>\n",
              "    </tr>\n",
              "  </thead>\n",
              "  <tbody>\n",
              "    <tr>\n",
              "      <th>1168639</th>\n",
              "      <td>1</td>\n",
              "      <td>rox your welcome follow4follow ??^^</td>\n",
              "    </tr>\n",
              "    <tr>\n",
              "      <th>384304</th>\n",
              "      <td>0</td>\n",
              "      <td>poker - up to 100 % ( for non us )</td>\n",
              "    </tr>\n",
              "    <tr>\n",
              "      <th>213845</th>\n",
              "      <td>0</td>\n",
              "      <td>nothing trying to do some work but i keep gett...</td>\n",
              "    </tr>\n",
              "    <tr>\n",
              "      <th>1591852</th>\n",
              "      <td>1</td>\n",
              "      <td>cool cool ... it is an exercise of the soul ...</td>\n",
              "    </tr>\n",
              "    <tr>\n",
              "      <th>161024</th>\n",
              "      <td>0</td>\n",
              "      <td>off work , trying to relax for about 30 before...</td>\n",
              "    </tr>\n",
              "    <tr>\n",
              "      <th>530158</th>\n",
              "      <td>0</td>\n",
              "      <td>don ' t be mad at me .. a at least reply somet...</td>\n",
              "    </tr>\n",
              "    <tr>\n",
              "      <th>285885</th>\n",
              "      <td>0</td>\n",
              "      <td>five days until my birthday ! ! still have one...</td>\n",
              "    </tr>\n",
              "    <tr>\n",
              "      <th>839454</th>\n",
              "      <td>1</td>\n",
              "      <td>its nice out side today</td>\n",
              "    </tr>\n",
              "    <tr>\n",
              "      <th>986148</th>\n",
              "      <td>1</td>\n",
              "      <td>will not answer but will wait on</td>\n",
              "    </tr>\n",
              "    <tr>\n",
              "      <th>1267442</th>\n",
              "      <td>1</td>\n",
              "      <td>... i saw it on ... not literally that would r...</td>\n",
              "    </tr>\n",
              "  </tbody>\n",
              "</table>\n",
              "</div>"
            ],
            "text/plain": [
              "         polarity                                              tweet\n",
              "1168639         1                rox your welcome follow4follow ??^^\n",
              "384304          0                 poker - up to 100 % ( for non us )\n",
              "213845          0  nothing trying to do some work but i keep gett...\n",
              "1591852         1    cool cool ... it is an exercise of the soul ...\n",
              "161024          0  off work , trying to relax for about 30 before...\n",
              "530158          0  don ' t be mad at me .. a at least reply somet...\n",
              "285885          0  five days until my birthday ! ! still have one...\n",
              "839454          1                            its nice out side today\n",
              "986148          1                   will not answer but will wait on\n",
              "1267442         1  ... i saw it on ... not literally that would r..."
            ]
          },
          "execution_count": 13,
          "metadata": {},
          "output_type": "execute_result"
        }
      ],
      "source": [
        "df.sample(10)[['polarity', 'tweet']]"
      ]
    },
    {
      "cell_type": "code",
      "execution_count": 14,
      "metadata": {
        "id": "BC5gTGfrYfW5"
      },
      "outputs": [],
      "source": [
        "X = df['tweet'].values\n",
        "y = df['polarity'].values"
      ]
    },
    {
      "cell_type": "code",
      "execution_count": 15,
      "metadata": {
        "id": "W3IbvKscY1ma"
      },
      "outputs": [],
      "source": [
        "from sklearn.model_selection import train_test_split\n",
        "X_train, X_test, y_train, y_test = train_test_split(X, y, test_size=0.1, random_state=2023)"
      ]
    },
    {
      "attachments": {},
      "cell_type": "markdown",
      "metadata": {
        "id": "WxiK2EVGN2CX"
      },
      "source": [
        "## BERTTokenizer + Pytorch Dataset"
      ]
    },
    {
      "cell_type": "code",
      "execution_count": 16,
      "metadata": {
        "id": "sHV4yEmYN2CX"
      },
      "outputs": [
        {
          "name": "stdout",
          "output_type": "stream",
          "text": [
            "Loading BERT tokenizer...\n",
            "Loaded!\n"
          ]
        }
      ],
      "source": [
        "from transformers import BertTokenizer\n",
        "\n",
        "print('Loading BERT tokenizer...')\n",
        "tokenizer = BertTokenizer.from_pretrained('bert-base-uncased', do_lower_case=True)\n",
        "print('Loaded!')"
      ]
    },
    {
      "attachments": {},
      "cell_type": "markdown",
      "metadata": {
        "id": "TbqYssH8N2CX"
      },
      "source": [
        "Get longest tokenized sentence (since BERT requires all sentences to be the same length). This includes the special tokens `[CLS]` and `[SEP]`."
      ]
    },
    {
      "cell_type": "code",
      "execution_count": 17,
      "metadata": {
        "id": "fW2n6YULN2CX"
      },
      "outputs": [],
      "source": [
        "# max_len = 0\n",
        "\n",
        "# # For every sentence...\n",
        "# for sample in tqdm(X):\n",
        "\n",
        "#     # Tokenize the text and add `[CLS]` and `[SEP]` tokens.\n",
        "#     input_ids = tokenizer.encode(sample, add_special_tokens=True)\n",
        "\n",
        "#     # Update the maximum sentence length.\n",
        "#     max_len = max(max_len, len(input_ids))\n",
        "\n",
        "#     del input_ids\n",
        "\n",
        "# print('\\nMax sentence length: ', max_len)\n",
        "\n",
        "# NOTE: the above is on CPU, so uncomment only if using different or new data\n",
        "max_len = 256"
      ]
    },
    {
      "attachments": {},
      "cell_type": "markdown",
      "metadata": {
        "id": "F--hk-bORyuX"
      },
      "source": [
        "Using BERT Tokenizer and maxlen to tokenize each sentence by\n",
        "\n",
        "1. tokenize by id\n",
        "2. prepend `[CLS]`\n",
        "3. append `[SEP]` at end\n",
        "4. pad with `[PAD]` tokens until max_len\n",
        "5. attention mask for the `[PAD]` tokens"
      ]
    },
    {
      "cell_type": "code",
      "execution_count": 18,
      "metadata": {
        "id": "A-36IZc-Woxo"
      },
      "outputs": [],
      "source": [
        "import torch\n",
        "from torch.utils.data import Dataset, DataLoader"
      ]
    },
    {
      "cell_type": "code",
      "execution_count": 19,
      "metadata": {
        "id": "effpwxNqWW39"
      },
      "outputs": [],
      "source": [
        "class BertTokenizedTweetsDataset(Dataset):\n",
        "    def __init__(self,\n",
        "                 X_train=X_train, y_train=y_train,\n",
        "                 X_test=X_test, y_test=y_test,\n",
        "                 train=True, max_len=256, max_cache_size=800000):\n",
        "        self.df = df\n",
        "        self.train = train\n",
        "        self.max_len = 256\n",
        "\n",
        "        self.X = X_train if self.train else X_test\n",
        "        self.y = y_train if self.train else y_test\n",
        "\n",
        "        self.cache = dict()\n",
        "        self.max_cache_size = max_cache_size\n",
        "\n",
        "    def __getitem__(self, index):\n",
        "\n",
        "        if index in self.cache.keys():\n",
        "            return self.cache[index]\n",
        "\n",
        "        X_sample = self.X[index]\n",
        "        y_sample = torch.tensor(self.y[index], dtype=torch.int64)\n",
        "\n",
        "        encoded_dict = tokenizer.encode_plus(\n",
        "                        X_sample,                 # Sentence to encode.\n",
        "                        add_special_tokens=True,  # Add '[CLS]' and '[SEP]'\n",
        "                        max_length=self.max_len,  # Pad & truncate all sentences.\n",
        "                        truncation=True,\n",
        "                        pad_to_max_length=True,\n",
        "                        return_attention_mask=True,   # Construct attn. masks.\n",
        "                        return_tensors='pt',      # Return pytorch tensors.\n",
        "                    )\n",
        "    \n",
        "        X_tokenized_id = encoded_dict['input_ids']\n",
        "        X_mask = encoded_dict['attention_mask']\n",
        "\n",
        "        if len(self.cache) >= self.max_cache_size:\n",
        "            self.cache.popitem()\n",
        "\n",
        "        self.cache[index] = (X_tokenized_id, X_mask, y_sample)\n",
        "\n",
        "        return X_tokenized_id, X_mask, y_sample\n",
        "\n",
        "    def __len__(self):\n",
        "        return len(self.X)"
      ]
    },
    {
      "cell_type": "code",
      "execution_count": 20,
      "metadata": {
        "id": "IYDE2bXyalVA"
      },
      "outputs": [],
      "source": [
        "train_data = BertTokenizedTweetsDataset(X_train=X_train, y_train=y_train, X_test=X_test, y_test=y_test, train=True)\n",
        "test_data = BertTokenizedTweetsDataset(X_train=X_train, y_train=y_train, X_test=X_test, y_test=y_test, train=False)"
      ]
    },
    {
      "cell_type": "code",
      "execution_count": 21,
      "metadata": {
        "id": "TS7UjBSYeU6S"
      },
      "outputs": [],
      "source": [
        "def test_cached_speed(unused_index):\n",
        "    import time\n",
        "    def get_time():\n",
        "        stime = time.time()\n",
        "        _ = train_data[unused_index]\n",
        "        etime = time.time()\n",
        "\n",
        "        return np.array(etime, dtype=np.float64) - np.array(stime, dtype=np.float64)\n",
        "    \n",
        "    uncached = get_time()\n",
        "    cached = get_time()\n",
        "    speed_x = uncached / cached\n",
        "\n",
        "    print(f'On this trial, cached had {uncached:.5f}/{cached:.5f} = {speed_x:.5f}x speed increase')    "
      ]
    },
    {
      "cell_type": "code",
      "execution_count": 22,
      "metadata": {
        "id": "ZYvTcCkMeGg1"
      },
      "outputs": [
        {
          "name": "stdout",
          "output_type": "stream",
          "text": [
            "On this trial, cached had 0.01094/0.00000 = 3528.76923x speed increase\n"
          ]
        },
        {
          "name": "stderr",
          "output_type": "stream",
          "text": [
            "/Users/arths/opt/anaconda3/envs/bert-transfer-learning/lib/python3.11/site-packages/transformers/tokenization_utils_base.py:2364: FutureWarning: The `pad_to_max_length` argument is deprecated and will be removed in a future version, use `padding=True` or `padding='longest'` to pad to the longest sequence in the batch, or use `padding='max_length'` to pad to a max length. In this case, you can give a specific length with `max_length` (e.g. `max_length=45`) or leave max_length to None to pad to the maximal input size of the model (e.g. 512 for Bert).\n",
            "  warnings.warn(\n"
          ]
        }
      ],
      "source": [
        "test_cached_speed(np.random.randint(0, len(train_data)-1))"
      ]
    },
    {
      "attachments": {},
      "cell_type": "markdown",
      "metadata": {
        "id": "wrlYSMYechs3"
      },
      "source": [
        "## Transfer Learning w/ BERT"
      ]
    },
    {
      "cell_type": "code",
      "execution_count": 23,
      "metadata": {
        "id": "9QJh4ek7cOQv"
      },
      "outputs": [],
      "source": [
        "from torch.utils.data import random_split\n",
        "train_subset, val_subset = random_split(train_data, [0.8, 0.2])"
      ]
    },
    {
      "cell_type": "code",
      "execution_count": 24,
      "metadata": {
        "id": "CfHtmXa8cgO9"
      },
      "outputs": [],
      "source": [
        "BATCH_SIZE = 32\n",
        "EPOCHS=4"
      ]
    },
    {
      "cell_type": "code",
      "execution_count": 25,
      "metadata": {
        "id": "Hhd3NVtOcUzM"
      },
      "outputs": [],
      "source": [
        "train_dl = DataLoader(train_subset, batch_size=BATCH_SIZE, shuffle=True)\n",
        "val_dl = DataLoader(val_subset, batch_size=BATCH_SIZE, shuffle=True)\n",
        "test_dl = DataLoader(test_data, batch_size=BATCH_SIZE)"
      ]
    },
    {
      "cell_type": "code",
      "execution_count": 26,
      "metadata": {
        "id": "0--1mbER0H00"
      },
      "outputs": [],
      "source": [
        "from transformers import AdamW\n",
        "from transformers import get_linear_schedule_with_warmup\n",
        "\n",
        "def save(model, optimizer, scheduler, save_path='./bert_sentiment140_fine_tuned.pth'):\n",
        "    torch.save({\n",
        "        'model_state_dict': model.state_dict(),\n",
        "        'optimizer_state_dict': optimizer.state_dict(),\n",
        "        'scheduler_state_dict': scheduler.state_dict(),\n",
        "    }, save_path)\n",
        "\n",
        "def train_step(bert, dataloader, optimizer, scheduler, epoch=0, val=False, print_batch_every=1000, save_every=10, save_path=None):\n",
        "\n",
        "    # tracking vars\n",
        "    tot_accuracy = 0\n",
        "    tot_loss = 0\n",
        "    batch = 0\n",
        "\n",
        "    # ready for train\n",
        "    if not val:\n",
        "        bert.train()\n",
        "    else:\n",
        "        bert.eval()\n",
        "\n",
        "    prepend = 'val' if val else 'train'\n",
        "\n",
        "    for data in iter(dataloader):\n",
        "\n",
        "        batch += 1\n",
        "\n",
        "        # get data and send to gpu\n",
        "        seqs, masks, labels = data\n",
        "\n",
        "        # align dims\n",
        "        seqs = torch.squeeze(seqs.transpose(2, 1)).to(device)\n",
        "        masks = torch.squeeze(masks.transpose(2, 1)).to(device)\n",
        "        labels = torch.squeeze(labels).to(device)\n",
        "\n",
        "        if not val:\n",
        "            # zero out grads\n",
        "            bert.zero_grad()\n",
        "\n",
        "        # get loss and preds\n",
        "        loss, preds = bert(\n",
        "            seqs,\n",
        "            attention_mask=masks,\n",
        "            labels=labels,\n",
        "            return_dict=False\n",
        "        )\n",
        "        \n",
        "        # calc and accumulate loss\n",
        "        if not val:\n",
        "            loss.backward()\n",
        "        tot_loss += loss.item()\n",
        "\n",
        "        # torch.nn.utils.clip_grad_norm_(bert.parameters(), 1.0)\n",
        "\n",
        "        if not val:\n",
        "            # descent step + set lr\n",
        "            optimizer.step()\n",
        "            scheduler.step()\n",
        "\n",
        "        pred_sentiment = preds.data.max(1)[1]\n",
        "        correct = pred_sentiment.eq(labels).cpu().sum()\n",
        "        accuracy = correct.item() / labels.size(0)\n",
        "        tot_accuracy += accuracy\n",
        "\n",
        "        if save_path and ((batch-1) % save_every == 0):\n",
        "            batch_save_path = save_path[:-4] + f'_{batch}.pth'\n",
        "            save(bert, optimizer, scheduler, save_path=batch_save_path)\n",
        "\n",
        "        if ((batch - 1) % print_batch_every == 0):\n",
        "            print(f'epoch: {epoch}\\tbatch: {batch}/{len(dataloader)}\\t{prepend}_acc: {accuracy}\\t{prepend}_loss: {loss.item()}')\n",
        "\n",
        "    tot_accuracy = tot_accuracy / len(dataloader)\n",
        "    tot_loss = tot_loss / len(dataloader)\n",
        "\n",
        "    print(f'{prepend} epoch: {epoch}\\t{prepend}_acc: {tot_accuracy}\\t{prepend}_loss: {tot_loss}')\n",
        "    \n",
        "    return tot_accuracy, tot_loss\n",
        "\n",
        "def load(model, optimizer, scheduler, load_path='./bert_sentiment140_fine_tuned.pth'):\n",
        "    checkpoint = torch.load(load_path, map_location='cpu')\n",
        "    model.load_state_dict(checkpoint['model_state_dict'])\n",
        "    optimizer.load_state_dict(checkpoint['optimizer_state_dict'])\n",
        "    scheduler.load_state_dict(checkpoint['scheduler_state_dict'])\n",
        "\n",
        "    return model, optimizer, scheduler\n",
        "\n",
        "def train(bert, train_dl, val_dl, epochs=4, lr=2e-5, eps=1e-8, print_batch_every=1000, save_every=10, save_path='./bert_sentiment140_fine_tuned.pth'):\n",
        "\n",
        "    optimizer = AdamW(bert.parameters(), lr=lr, eps=eps)\n",
        "    \n",
        "    total_steps = len(train_dl) * epochs\n",
        "    scheduler = get_linear_schedule_with_warmup(optimizer, num_warmup_steps=0, num_training_steps=total_steps)\n",
        "\n",
        "    train_accs, train_losses, val_accs, val_losses = [], [], [], []\n",
        "\n",
        "    save(bert, optimizer, scheduler, save_path=save_path)\n",
        "\n",
        "    for epoch in range(epochs):\n",
        "\n",
        "        batch_save_path = save_path[0:-4] + f'_{epoch}.pth'\n",
        "        train_accuracy, train_loss = train_step(\n",
        "            bert, train_dl,\n",
        "            optimizer, scheduler,\n",
        "            epoch=epoch,\n",
        "            print_batch_every=print_batch_every,\n",
        "            save_every=save_every,\n",
        "            save_path=batch_save_path\n",
        "        )\n",
        "\n",
        "        epoch_save_path = save_path[0:-4] + f'_{epoch}.pth'\n",
        "        save(bert, optimizer, scheduler, save_path=epoch_save_path)\n",
        "\n",
        "        val_accuracy, val_loss = 0, 0\n",
        "        with torch.no_grad():\n",
        "            val_accuracy, val_loss = train_step(\n",
        "                bert, val_dl,\n",
        "                optimizer, scheduler,\n",
        "                epoch=epoch,\n",
        "                print_batch_every=print_batch_every,\n",
        "                val=True,\n",
        "            )\n",
        "\n",
        "        train_accs.append(train_accuracy)\n",
        "        train_losses.append(train_loss)\n",
        "        val_accs.append(val_accuracy)\n",
        "        val_losses.append(val_loss)\n",
        "\n",
        "        np.savetxt('checkpoints/train_accs.txt', np.array(train_accs))\n",
        "        np.savetxt('checkpoints/train_losses.txt', np.array(train_losses))\n",
        "        np.savetxt('checkpoints/val_accs.txt', np.array(val_accs))\n",
        "        np.savetxt('checkpoints/val_losses.txt', np.array(val_losses))\n",
        "\n",
        "    return train_accs, train_losses, val_accs, val_losses"
      ]
    },
    {
      "cell_type": "code",
      "execution_count": 27,
      "metadata": {
        "id": "w6Dk0UtIJ98S"
      },
      "outputs": [
        {
          "name": "stderr",
          "output_type": "stream",
          "text": [
            "Some weights of the model checkpoint at distilbert-base-uncased were not used when initializing DistilBertForSequenceClassification: ['vocab_transform.weight', 'vocab_transform.bias', 'vocab_projector.bias', 'vocab_projector.weight', 'vocab_layer_norm.weight', 'vocab_layer_norm.bias']\n",
            "- This IS expected if you are initializing DistilBertForSequenceClassification from the checkpoint of a model trained on another task or with another architecture (e.g. initializing a BertForSequenceClassification model from a BertForPreTraining model).\n",
            "- This IS NOT expected if you are initializing DistilBertForSequenceClassification from the checkpoint of a model that you expect to be exactly identical (initializing a BertForSequenceClassification model from a BertForSequenceClassification model).\n",
            "Some weights of DistilBertForSequenceClassification were not initialized from the model checkpoint at distilbert-base-uncased and are newly initialized: ['pre_classifier.bias', 'classifier.weight', 'classifier.bias', 'pre_classifier.weight']\n",
            "You should probably TRAIN this model on a down-stream task to be able to use it for predictions and inference.\n"
          ]
        },
        {
          "data": {
            "text/plain": [
              "DistilBertForSequenceClassification(\n",
              "  (distilbert): DistilBertModel(\n",
              "    (embeddings): Embeddings(\n",
              "      (word_embeddings): Embedding(30522, 768, padding_idx=0)\n",
              "      (position_embeddings): Embedding(512, 768)\n",
              "      (LayerNorm): LayerNorm((768,), eps=1e-12, elementwise_affine=True)\n",
              "      (dropout): Dropout(p=0.1, inplace=False)\n",
              "    )\n",
              "    (transformer): Transformer(\n",
              "      (layer): ModuleList(\n",
              "        (0-5): 6 x TransformerBlock(\n",
              "          (attention): MultiHeadSelfAttention(\n",
              "            (dropout): Dropout(p=0.1, inplace=False)\n",
              "            (q_lin): Linear(in_features=768, out_features=768, bias=True)\n",
              "            (k_lin): Linear(in_features=768, out_features=768, bias=True)\n",
              "            (v_lin): Linear(in_features=768, out_features=768, bias=True)\n",
              "            (out_lin): Linear(in_features=768, out_features=768, bias=True)\n",
              "          )\n",
              "          (sa_layer_norm): LayerNorm((768,), eps=1e-12, elementwise_affine=True)\n",
              "          (ffn): FFN(\n",
              "            (dropout): Dropout(p=0.1, inplace=False)\n",
              "            (lin1): Linear(in_features=768, out_features=3072, bias=True)\n",
              "            (lin2): Linear(in_features=3072, out_features=768, bias=True)\n",
              "            (activation): GELUActivation()\n",
              "          )\n",
              "          (output_layer_norm): LayerNorm((768,), eps=1e-12, elementwise_affine=True)\n",
              "        )\n",
              "      )\n",
              "    )\n",
              "  )\n",
              "  (pre_classifier): Linear(in_features=768, out_features=768, bias=True)\n",
              "  (classifier): Linear(in_features=768, out_features=2, bias=True)\n",
              "  (dropout): Dropout(p=0.2, inplace=False)\n",
              ")"
            ]
          },
          "execution_count": 27,
          "metadata": {},
          "output_type": "execute_result"
        }
      ],
      "source": [
        "from transformers import DistilBertForSequenceClassification\n",
        "# load DistilBert model and send to gpu\n",
        "bert = DistilBertForSequenceClassification.from_pretrained(\n",
        "    'distilbert-base-uncased', num_labels=len(df['polarity'].unique()),\n",
        "    output_attentions=False, output_hidden_states=False,\n",
        ")\n",
        "bert.to(device)"
      ]
    },
    {
      "cell_type": "code",
      "execution_count": 28,
      "metadata": {
        "id": "RK_p4VV8S6H6"
      },
      "outputs": [],
      "source": [
        "train_accs, train_losses, val_accs, val_losses = train(bert, train_dl, val_dl, epochs=EPOCHS,\n",
        "                                                       print_batch_every=100, save_every=1000, \n",
        "                                                       save_path='./checkpoints/bert_sentiment140_fine_tuned.pth')"
      ]
    },
    {
      "attachments": {},
      "cell_type": "markdown",
      "metadata": {},
      "source": [
        "## Analysis and Inference"
      ]
    },
    {
      "cell_type": "code",
      "execution_count": 28,
      "metadata": {},
      "outputs": [],
      "source": [
        "# TODO: Add code to download selected checkpoints from gdrive"
      ]
    },
    {
      "attachments": {},
      "cell_type": "markdown",
      "metadata": {},
      "source": [
        "First, we'll load the accuracy and losses for train vs val from saved files and plot."
      ]
    },
    {
      "cell_type": "code",
      "execution_count": 29,
      "metadata": {},
      "outputs": [],
      "source": [
        "def load_model(load_path, epochs=1, lr=2e-5, eps=1e-8):\n",
        "    trained_bert = DistilBertForSequenceClassification.from_pretrained(\n",
        "        'distilbert-base-uncased', num_labels=len(df['polarity'].unique()),\n",
        "        output_attentions=False, output_hidden_states=False,\n",
        "    )\n",
        "    trained_bert.to(device)\n",
        "\n",
        "    optimizer = AdamW(bert.parameters(), lr=lr, eps=eps)\n",
        "        \n",
        "    total_steps = len(train_dl) * epochs\n",
        "    scheduler = get_linear_schedule_with_warmup(optimizer, num_warmup_steps=0, num_training_steps=total_steps)\n",
        "\n",
        "    trained_bert, optimizer, scheduler = load(trained_bert, optimizer, scheduler, load_path=load_path)\n",
        "\n",
        "    return trained_bert, optimizer, scheduler\n",
        "\n",
        "def load_train_stats(load_dir, files=['train_accs', 'train_losses', 'val_accs', 'val_losses']):\n",
        "    from pathlib import Path\n",
        "\n",
        "    stats = [np.loadtxt(Path(load_dir) / Path(f'{fn}.txt')) for fn in files]\n",
        "\n",
        "    return stats"
      ]
    },
    {
      "cell_type": "code",
      "execution_count": 30,
      "metadata": {},
      "outputs": [],
      "source": [
        "train_accs, train_losses, val_accs, val_losses = load_train_stats('select_saved_checkpoints')"
      ]
    },
    {
      "cell_type": "code",
      "execution_count": 31,
      "metadata": {},
      "outputs": [],
      "source": [
        "import matplotlib.pyplot as plt\n",
        "\n",
        "def train_val_plot(plot, train_data, val_data,\n",
        "                   x_label='', y_label='',\n",
        "                   train_legend='', val_legend='',\n",
        "                   train_color='blue', val_color='red',\n",
        "                   title=''):\n",
        "    \n",
        "    \n",
        "    xs = range(1, len(train_data)+1)\n",
        "    plot.set_xticks(xs)\n",
        "    \n",
        "    plot.plot(xs, train_data, label=train_legend, color=train_color)\n",
        "    plot.plot(xs, val_data, label=val_legend, color=val_color)\n",
        "\n",
        "    plot.set_xlabel(x_label)\n",
        "    plot.set_ylabel(y_label)\n",
        "\n",
        "    plot.set_title(title)\n",
        "    plot.legend()"
      ]
    },
    {
      "cell_type": "code",
      "execution_count": 32,
      "metadata": {},
      "outputs": [
        {
          "name": "stderr",
          "output_type": "stream",
          "text": [
            "/var/folders/bm/v9sftty97f1b1pjtvxw68byc0000gn/T/ipykernel_61298/3677851923.py:13: UserWarning: Matplotlib is currently using module://matplotlib_inline.backend_inline, which is a non-GUI backend, so cannot show the figure.\n",
            "  fig.show()\n"
          ]
        },
        {
          "data": {
            "image/png": "[encoded data removed]",
            "text/plain": [
              "<Figure size 1000x400 with 2 Axes>"
            ]
          },
          "metadata": {},
          "output_type": "display_data"
        }
      ],
      "source": [
        "fig, axs = plt.subplots(1, 2, figsize=(10, 4))\n",
        "\n",
        "train_val_plot(axs[0], train_accs, val_accs,\n",
        "               x_label='Epoch', y_label='Accuracy', \n",
        "               train_legend='Train Accs', val_legend='Val Accs',\n",
        "               title='Accuracy by Epoch')\n",
        "\n",
        "train_val_plot(axs[1], train_losses, val_losses,\n",
        "               x_label='Epoch', y_label='Loss', \n",
        "               train_legend='Train Loss', val_legend='Val Loss',\n",
        "               title='Loss by Epoch')\n",
        "\n",
        "fig.show()"
      ]
    },
    {
      "attachments": {},
      "cell_type": "markdown",
      "metadata": {},
      "source": [
        "Notably, after only one epoch our accuracy on validation data reaches about 85%. Furthermore, after the second epoch, the model begins to overfit and val accuracy suffers. So, the optimal version of this fine-tuned model is that from epoch 1."
      ]
    },
    {
      "attachments": {},
      "cell_type": "markdown",
      "metadata": {},
      "source": [
        "Next, to minimize computational cost, I will only perform inference on a subset of train data.\n",
        "\n",
        "Furthermore, in the final table, I will set \"negative\" training data to -1 rather than 0 for visualization purposes."
      ]
    },
    {
      "cell_type": "code",
      "execution_count": 33,
      "metadata": {},
      "outputs": [
        {
          "name": "stderr",
          "output_type": "stream",
          "text": [
            "Some weights of the model checkpoint at distilbert-base-uncased were not used when initializing DistilBertForSequenceClassification: ['vocab_transform.weight', 'vocab_transform.bias', 'vocab_projector.bias', 'vocab_projector.weight', 'vocab_layer_norm.weight', 'vocab_layer_norm.bias']\n",
            "- This IS expected if you are initializing DistilBertForSequenceClassification from the checkpoint of a model trained on another task or with another architecture (e.g. initializing a BertForSequenceClassification model from a BertForPreTraining model).\n",
            "- This IS NOT expected if you are initializing DistilBertForSequenceClassification from the checkpoint of a model that you expect to be exactly identical (initializing a BertForSequenceClassification model from a BertForSequenceClassification model).\n",
            "Some weights of DistilBertForSequenceClassification were not initialized from the model checkpoint at distilbert-base-uncased and are newly initialized: ['pre_classifier.bias', 'classifier.weight', 'classifier.bias', 'pre_classifier.weight']\n",
            "You should probably TRAIN this model on a down-stream task to be able to use it for predictions and inference.\n",
            "/Users/arths/opt/anaconda3/envs/bert-transfer-learning/lib/python3.11/site-packages/transformers/optimization.py:407: FutureWarning: This implementation of AdamW is deprecated and will be removed in a future version. Use the PyTorch implementation torch.optim.AdamW instead, or set `no_deprecation_warning=True` to disable this warning\n",
            "  warnings.warn(\n"
          ]
        }
      ],
      "source": [
        "optimal_bert, _, _ = load_model('./select_saved_checkpoints/bert_sentiment140_fine_tuned_1.pth')"
      ]
    },
    {
      "cell_type": "code",
      "execution_count": 95,
      "metadata": {},
      "outputs": [],
      "source": [
        "import random\n",
        "\n",
        "NUM_INFERENCE_SAMPLES = 1000\n",
        "\n",
        "indices = random.sample(range(len(X_test)), NUM_INFERENCE_SAMPLES)\n",
        "\n",
        "X_inf = [X_test[i] for i in indices]\n",
        "y_inf = [y_test[i] for i in indices]"
      ]
    },
    {
      "cell_type": "code",
      "execution_count": 96,
      "metadata": {},
      "outputs": [],
      "source": [
        "inf_data = BertTokenizedTweetsDataset(X_test=X_inf, y_test=y_inf, train=False)\n",
        "inf_dl = DataLoader(inf_data, batch_size=10, shuffle=False)"
      ]
    },
    {
      "cell_type": "code",
      "execution_count": 97,
      "metadata": {},
      "outputs": [],
      "source": [
        "def inference(bert, dataloader, sent_data):\n",
        "\n",
        "    NEG_ONE_HOT = torch.tensor([1, 0]).to(torch.float32)\n",
        "    POS_ONE_HOT = torch.tensor([0, 1]).to(torch.float32)\n",
        "\n",
        "    import warnings\n",
        "    warnings.filterwarnings('ignore')\n",
        "    with torch.no_grad():\n",
        "\n",
        "        res_df = pd.DataFrame(columns=['Tweet', 'Label', 'Prediction', 'Approx Sent', 'Cross Entropy'])\n",
        "\n",
        "        data_index = 0\n",
        "        \n",
        "        # tracking vars\n",
        "        tot_accuracy = 0\n",
        "        tot_loss = 0\n",
        "        batch = 0\n",
        "\n",
        "        for data in tqdm(iter(dataloader)):\n",
        "\n",
        "            batch += 1\n",
        "\n",
        "            # get data and send to gpu\n",
        "            seqs, masks, labels = data\n",
        "\n",
        "            # align dims\n",
        "            seqs = torch.squeeze(seqs.transpose(2, 1)).to(device)\n",
        "            masks = torch.squeeze(masks.transpose(2, 1)).to(device)\n",
        "            labels = torch.squeeze(labels).to(device)\n",
        "\n",
        "            # get loss and preds\n",
        "            loss, preds = bert(\n",
        "                seqs,\n",
        "                attention_mask=masks,\n",
        "                labels=labels,\n",
        "                return_dict=False\n",
        "            )\n",
        "            \n",
        "            # calc and accumulate loss\n",
        "            tot_loss += loss.item()\n",
        "\n",
        "            pred_sentiment = preds.data.max(1)[1]\n",
        "            correct = pred_sentiment.eq(labels).cpu().sum()\n",
        "            accuracy = correct.item() / labels.size(0)\n",
        "\n",
        "            tot_accuracy += accuracy\n",
        "\n",
        "            for i in range(labels.size(0)):\n",
        "                sentence = sent_data[data_index]\n",
        "                real_label = 1 if labels[i] > 0 else -1\n",
        "                pred = 1 if pred_sentiment[i].item() > 0 else -1\n",
        "\n",
        "                # softmax to get approx probability for each label\n",
        "                # then calc approx sentiment using expected value\n",
        "                softmaxed_pred = torch.nn.functional.softmax(preds[i], dim=0)\n",
        "                neg_prob, pos_prob = softmaxed_pred\n",
        "                approx_pred = (-1*neg_prob + 1*pos_prob).item()\n",
        "\n",
        "                # get cross entropy loss\n",
        "                ce = torch.nn.functional.cross_entropy(softmaxed_pred, POS_ONE_HOT if real_label > 0 else NEG_ONE_HOT)\n",
        "    \n",
        "                res_df_row = { \n",
        "                    'Tweet': sentence,\n",
        "                    'Label': real_label,\n",
        "                    'Prediction': pred,\n",
        "                    'Approx Sent': approx_pred,\n",
        "                    'Cross Entropy': ce.item(),\n",
        "                }\n",
        "                res_df.loc[len(res_df)] = res_df_row\n",
        "\n",
        "                data_index += 1\n",
        "\n",
        "\n",
        "        tot_accuracy = tot_accuracy / len(dataloader)\n",
        "        tot_loss = tot_loss / len(dataloader)\n",
        "        \n",
        "        return res_df, tot_accuracy, tot_loss"
      ]
    },
    {
      "cell_type": "code",
      "execution_count": 98,
      "metadata": {},
      "outputs": [
        {
          "name": "stderr",
          "output_type": "stream",
          "text": [
            "100%|██████████| 100/100 [09:39<00:00,  5.80s/it]\n"
          ]
        }
      ],
      "source": [
        "res_df, inf_acc, inf_loss = inference(optimal_bert, inf_dl, X_inf)"
      ]
    },
    {
      "cell_type": "code",
      "execution_count": 99,
      "metadata": {},
      "outputs": [
        {
          "data": {
            "text/html": [
              "<div>\n",
              "<style scoped>\n",
              "    .dataframe tbody tr th:only-of-type {\n",
              "        vertical-align: middle;\n",
              "    }\n",
              "\n",
              "    .dataframe tbody tr th {\n",
              "        vertical-align: top;\n",
              "    }\n",
              "\n",
              "    .dataframe thead th {\n",
              "        text-align: right;\n",
              "    }\n",
              "</style>\n",
              "<table border=\"1\" class=\"dataframe\">\n",
              "  <thead>\n",
              "    <tr style=\"text-align: right;\">\n",
              "      <th></th>\n",
              "      <th>Tweet</th>\n",
              "      <th>Label</th>\n",
              "      <th>Prediction</th>\n",
              "      <th>Approx Sent</th>\n",
              "      <th>Cross Entropy</th>\n",
              "    </tr>\n",
              "  </thead>\n",
              "  <tbody>\n",
              "    <tr>\n",
              "      <th>698</th>\n",
              "      <td>just saw up for the second time but with this ...</td>\n",
              "      <td>1</td>\n",
              "      <td>1</td>\n",
              "      <td>0.210638</td>\n",
              "      <td>0.593364</td>\n",
              "    </tr>\n",
              "    <tr>\n",
              "      <th>631</th>\n",
              "      <td>maniac my pleasure completely .. might have so...</td>\n",
              "      <td>1</td>\n",
              "      <td>1</td>\n",
              "      <td>0.971551</td>\n",
              "      <td>0.320993</td>\n",
              "    </tr>\n",
              "    <tr>\n",
              "      <th>468</th>\n",
              "      <td>morning everyone ! thanks for all the ' s ! wi...</td>\n",
              "      <td>1</td>\n",
              "      <td>-1</td>\n",
              "      <td>-0.145144</td>\n",
              "      <td>0.768350</td>\n",
              "    </tr>\n",
              "    <tr>\n",
              "      <th>90</th>\n",
              "      <td>well this is sad</td>\n",
              "      <td>-1</td>\n",
              "      <td>-1</td>\n",
              "      <td>-0.978285</td>\n",
              "      <td>0.319148</td>\n",
              "    </tr>\n",
              "    <tr>\n",
              "      <th>221</th>\n",
              "      <td>still waking up , man i wish i could drink coffee</td>\n",
              "      <td>-1</td>\n",
              "      <td>-1</td>\n",
              "      <td>-0.865263</td>\n",
              "      <td>0.351319</td>\n",
              "    </tr>\n",
              "    <tr>\n",
              "      <th>349</th>\n",
              "      <td>no prob ! glad to spread the twitter love !</td>\n",
              "      <td>1</td>\n",
              "      <td>1</td>\n",
              "      <td>0.998659</td>\n",
              "      <td>0.313623</td>\n",
              "    </tr>\n",
              "    <tr>\n",
              "      <th>577</th>\n",
              "      <td>and thank you for the follow back</td>\n",
              "      <td>1</td>\n",
              "      <td>1</td>\n",
              "      <td>0.997159</td>\n",
              "      <td>0.314027</td>\n",
              "    </tr>\n",
              "    <tr>\n",
              "      <th>694</th>\n",
              "      <td>need to calibrate my .. i think they look like...</td>\n",
              "      <td>-1</td>\n",
              "      <td>-1</td>\n",
              "      <td>-0.829183</td>\n",
              "      <td>0.362144</td>\n",
              "    </tr>\n",
              "    <tr>\n",
              "      <th>841</th>\n",
              "      <td>yesterday was a sound little day , but today i...</td>\n",
              "      <td>1</td>\n",
              "      <td>-1</td>\n",
              "      <td>-0.607628</td>\n",
              "      <td>1.042420</td>\n",
              "    </tr>\n",
              "    <tr>\n",
              "      <th>197</th>\n",
              "      <td>lost no</td>\n",
              "      <td>-1</td>\n",
              "      <td>-1</td>\n",
              "      <td>-0.856877</td>\n",
              "      <td>0.353811</td>\n",
              "    </tr>\n",
              "  </tbody>\n",
              "</table>\n",
              "</div>"
            ],
            "text/plain": [
              "                                                 Tweet  Label  Prediction  \\\n",
              "698  just saw up for the second time but with this ...      1           1   \n",
              "631  maniac my pleasure completely .. might have so...      1           1   \n",
              "468  morning everyone ! thanks for all the ' s ! wi...      1          -1   \n",
              "90                                    well this is sad     -1          -1   \n",
              "221  still waking up , man i wish i could drink coffee     -1          -1   \n",
              "349        no prob ! glad to spread the twitter love !      1           1   \n",
              "577                  and thank you for the follow back      1           1   \n",
              "694  need to calibrate my .. i think they look like...     -1          -1   \n",
              "841  yesterday was a sound little day , but today i...      1          -1   \n",
              "197                                            lost no     -1          -1   \n",
              "\n",
              "     Approx Sent  Cross Entropy  \n",
              "698     0.210638       0.593364  \n",
              "631     0.971551       0.320993  \n",
              "468    -0.145144       0.768350  \n",
              "90     -0.978285       0.319148  \n",
              "221    -0.865263       0.351319  \n",
              "349     0.998659       0.313623  \n",
              "577     0.997159       0.314027  \n",
              "694    -0.829183       0.362144  \n",
              "841    -0.607628       1.042420  \n",
              "197    -0.856877       0.353811  "
            ]
          },
          "execution_count": 99,
          "metadata": {},
          "output_type": "execute_result"
        }
      ],
      "source": [
        "res_df.sample(10)"
      ]
    },
    {
      "cell_type": "code",
      "execution_count": 100,
      "metadata": {},
      "outputs": [
        {
          "name": "stdout",
          "output_type": "stream",
          "text": [
            "Inference:\tAccuracy: 0.83\tLoss: 0.37\n"
          ]
        }
      ],
      "source": [
        "print(f'Inference:\\tAccuracy: {inf_acc:.2f}\\tLoss: {inf_loss:.2f}')"
      ]
    },
    {
      "attachments": {},
      "cell_type": "markdown",
      "metadata": {},
      "source": [
        "## Improving Accuracy"
      ]
    },
    {
      "attachments": {},
      "cell_type": "markdown",
      "metadata": {},
      "source": [
        "Our vanilla accuracy on such a large dataset is okay, but not ideal. We will investigate if there is some pattern between the Approx Sent or Cross Entropy we calculated and the misclassification."
      ]
    },
    {
      "cell_type": "code",
      "execution_count": 101,
      "metadata": {},
      "outputs": [],
      "source": [
        "import seaborn as sns\n",
        "\n",
        "match_df = res_df.loc[(res_df['Label'] == res_df['Prediction'])]\n",
        "mismatch_df = res_df.loc[(res_df['Label'] != res_df['Prediction'])]"
      ]
    },
    {
      "cell_type": "code",
      "execution_count": 102,
      "metadata": {},
      "outputs": [
        {
          "data": {
            "text/plain": [
              "<seaborn.axisgrid.FacetGrid at 0x19fa270d0>"
            ]
          },
          "execution_count": 102,
          "metadata": {},
          "output_type": "execute_result"
        },
        {
          "data": {
            "image/png": "[encoded data removed]",
            "text/plain": [
              "<Figure size 500x500 with 1 Axes>"
            ]
          },
          "metadata": {},
          "output_type": "display_data"
        },
        {
          "data": {
            "image/png": "[encoded data removed]",
            "text/plain": [
              "<Figure size 500x500 with 1 Axes>"
            ]
          },
          "metadata": {},
          "output_type": "display_data"
        }
      ],
      "source": [
        "sns.displot(match_df, x='Approx Sent', color='blue')\n",
        "sns.displot(mismatch_df, x='Approx Sent', color='red')"
      ]
    },
    {
      "cell_type": "code",
      "execution_count": 103,
      "metadata": {},
      "outputs": [
        {
          "data": {
            "text/plain": [
              "<seaborn.axisgrid.FacetGrid at 0x19bce31d0>"
            ]
          },
          "execution_count": 103,
          "metadata": {},
          "output_type": "execute_result"
        },
        {
          "data": {
            "image/png": "[encoded data removed]",
            "text/plain": [
              "<Figure size 500x500 with 1 Axes>"
            ]
          },
          "metadata": {},
          "output_type": "display_data"
        },
        {
          "data": {
            "image/png": "[encoded data removed]",
            "text/plain": [
              "<Figure size 500x500 with 1 Axes>"
            ]
          },
          "metadata": {},
          "output_type": "display_data"
        }
      ],
      "source": [
        "sns.displot(match_df, x='Cross Entropy', color='blue')\n",
        "sns.displot(mismatch_df, x='Cross Entropy', color='red')"
      ]
    },
    {
      "attachments": {},
      "cell_type": "markdown",
      "metadata": {},
      "source": [
        "There does seem to be some relationship between near-zero Approx Sent and misclassification.\n",
        "\n",
        "However, there is a clear correlation in the cross entropy loss and misclassification. Properly classified datapoints all have &lt; .7 loss, while misclassified data has &gt; 0.7 loss.\n",
        "\n",
        "Since DistilBert is such a large model, it should be difficult to overfit. So, I will try retraining on data with &gt; 0.7 loss."
      ]
    },
    {
      "attachments": {},
      "cell_type": "markdown",
      "metadata": {},
      "source": [
        "## Retraining On Failure Cases"
      ]
    },
    {
      "cell_type": "code",
      "execution_count": 104,
      "metadata": {},
      "outputs": [],
      "source": [
        "train_no_shuffle_dl = DataLoader(train_data, batch_size=10, shuffle=False)"
      ]
    },
    {
      "cell_type": "code",
      "execution_count": null,
      "metadata": {},
      "outputs": [],
      "source": [
        "loss_labeled_df, _, _ = inference(optimal_bert, train_dl, X_train)"
      ]
    },
    {
      "attachments": {},
      "cell_type": "markdown",
      "metadata": {},
      "source": [
        "## Some Final Logs"
      ]
    },
    {
      "attachments": {},
      "cell_type": "markdown",
      "metadata": {},
      "source": [
        "My model was originally trained on my PC, which currently does not have working WiFi. So, I am logging to WandB using my laptop."
      ]
    },
    {
      "cell_type": "code",
      "execution_count": 42,
      "metadata": {},
      "outputs": [
        {
          "name": "stderr",
          "output_type": "stream",
          "text": [
            "Failed to detect the name of this notebook, you can set it manually with the WANDB_NOTEBOOK_NAME environment variable to enable code saving.\n"
          ]
        },
        {
          "name": "stdout",
          "output_type": "stream",
          "text": [
            "Intel MKL WARNING: Support of Intel(R) Streaming SIMD Extensions 4.2 (Intel(R) SSE4.2) enabled only processors has been deprecated. Intel oneAPI Math Kernel Library 2025.0 will require Intel(R) Advanced Vector Extensions (Intel(R) AVX) instructions.\n",
            "Intel MKL WARNING: Support of Intel(R) Streaming SIMD Extensions 4.2 (Intel(R) SSE4.2) enabled only processors has been deprecated. Intel oneAPI Math Kernel Library 2025.0 will require Intel(R) Advanced Vector Extensions (Intel(R) AVX) instructions.\n"
          ]
        },
        {
          "name": "stderr",
          "output_type": "stream",
          "text": [
            "\u001b[34m\u001b[1mwandb\u001b[0m: Currently logged in as: \u001b[33marth-shukla\u001b[0m. Use \u001b[1m`wandb login --relogin`\u001b[0m to force relogin\n"
          ]
        },
        {
          "data": {
            "text/plain": [
              "True"
            ]
          },
          "execution_count": 42,
          "metadata": {},
          "output_type": "execute_result"
        }
      ],
      "source": [
        "import wandb\n",
        "\n",
        "# WANDB_API_KEY = # enter API key\n",
        "# wandb.login(key=WANDB_API_KEY)\n",
        "\n",
        "wandb.login()"
      ]
    },
    {
      "cell_type": "code",
      "execution_count": 43,
      "metadata": {},
      "outputs": [
        {
          "data": {
            "text/html": [
              "Tracking run with wandb version 0.15.3"
            ],
            "text/plain": [
              "<IPython.core.display.HTML object>"
            ]
          },
          "metadata": {},
          "output_type": "display_data"
        },
        {
          "data": {
            "text/html": [
              "Run data is saved locally in <code>/Users/arths/Documents/Coding/Personal/bert-sentiment-analysis/wandb/run-20230518_225839-2di1x1fm</code>"
            ],
            "text/plain": [
              "<IPython.core.display.HTML object>"
            ]
          },
          "metadata": {},
          "output_type": "display_data"
        },
        {
          "data": {
            "text/html": [
              "Syncing run <strong><a href='https://wandb.ai/arth-shukla/Sentiment140%20with%20Fine-Tuned%20DistilBERT/runs/2di1x1fm' target=\"_blank\">balmy-forest-1</a></strong> to <a href='https://wandb.ai/arth-shukla/Sentiment140%20with%20Fine-Tuned%20DistilBERT' target=\"_blank\">Weights & Biases</a> (<a href='https://wandb.me/run' target=\"_blank\">docs</a>)<br/>"
            ],
            "text/plain": [
              "<IPython.core.display.HTML object>"
            ]
          },
          "metadata": {},
          "output_type": "display_data"
        },
        {
          "data": {
            "text/html": [
              " View project at <a href='https://wandb.ai/arth-shukla/Sentiment140%20with%20Fine-Tuned%20DistilBERT' target=\"_blank\">https://wandb.ai/arth-shukla/Sentiment140%20with%20Fine-Tuned%20DistilBERT</a>"
            ],
            "text/plain": [
              "<IPython.core.display.HTML object>"
            ]
          },
          "metadata": {},
          "output_type": "display_data"
        },
        {
          "data": {
            "text/html": [
              " View run at <a href='https://wandb.ai/arth-shukla/Sentiment140%20with%20Fine-Tuned%20DistilBERT/runs/2di1x1fm' target=\"_blank\">https://wandb.ai/arth-shukla/Sentiment140%20with%20Fine-Tuned%20DistilBERT/runs/2di1x1fm</a>"
            ],
            "text/plain": [
              "<IPython.core.display.HTML object>"
            ]
          },
          "metadata": {},
          "output_type": "display_data"
        }
      ],
      "source": [
        "run = wandb.init(\n",
        "    project='Sentiment140 with Fine-Tuned DistilBERT',\n",
        "    notes='Transfer learning w/ DistilBERT pretrained distilbert-base-uncased model.'\n",
        ")\n",
        "\n",
        "wandb.config = {\n",
        "  \"epochs\": EPOCHS, \n",
        "  \"batch_size\": BATCH_SIZE\n",
        "}\n",
        "\n",
        "wandb.log({'acc_plot' : wandb.plot.line_series(\n",
        "      xs=range(1, EPOCHS+1), \n",
        "      ys=[train_accs, val_accs],\n",
        "      keys=['Train Acc', 'Val Acc'],\n",
        "      title='Accuracy by Epoch',\n",
        "      xname='Epochs')})\n",
        "wandb.log({'loss_plot' : wandb.plot.line_series(\n",
        "      xs=range(1, EPOCHS+1), \n",
        "      ys=[train_losses, val_losses],\n",
        "      keys=['Train Loss', 'Val Loss'],\n",
        "      title='Loss by Epoch',\n",
        "      xname='Epochs')})\n",
        "\n",
        "wandb.log({ 'Inference Examples': wandb.Table(data=res_df) })"
      ]
    }
  ],
  "metadata": {
    "accelerator": "GPU",
    "colab": {
      "collapsed_sections": [
        "WxiK2EVGN2CX"
      ],
      "gpuType": "T4",
      "provenance": []
    },
    "gpuClass": "standard",
    "kernelspec": {
      "display_name": "bert-transfer-learning",
      "language": "python",
      "name": "python3"
    },
    "language_info": {
      "codemirror_mode": {
        "name": "ipython",
        "version": 3
      },
      "file_extension": ".py",
      "mimetype": "text/x-python",
      "name": "python",
      "nbconvert_exporter": "python",
      "pygments_lexer": "ipython3",
      "version": "3.11.3"
    },
    "orig_nbformat": 4
  },
  "nbformat": 4,
  "nbformat_minor": 0
}
